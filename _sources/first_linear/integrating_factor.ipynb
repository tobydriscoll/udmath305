{
 "cells": [
  {
   "cell_type": "markdown",
   "id": "polyphonic-donor",
   "metadata": {},
   "source": [
    "# Integrating factor\n",
    "\n",
    ":::{attention}\n",
    "This is an optional section.\n",
    ":::\n",
    "\n",
    "There's a well-known alternate way to derive the general solution of $\\opA[x]=f$. We lead with an example.\n",
    "\n",
    "::::{admonition} Example\n",
    ":class: tip\n",
    "Consider $x'=4x+8t$, which we rewrite as $x'-4x=8t$. We multiply both sides of this equation by $e^{-4t}$ to get\n",
    "\n",
    "$$\n",
    "e^{-4t}x' - 4e^{-4t}x = 8te^{-4t}.\n",
    "$$\n",
    "\n",
    "The reason for doing this is that we can now apply the product rule for derivatives *in reverse* on the left side of the equation:\n",
    "\n",
    "$$\n",
    "\\dd{}{t} \\bigl[ e^{-4t} x(t) \\bigr] = 8te^{-4t}.\n",
    "$$\n",
    "\n",
    "Now we integrate both sides to get\n",
    "\n",
    "$$\n",
    "e^{-4t} x(t) = \\int 8te^{-4t}\\, dt = -\\frac{1}{2} (4t+1)e^{-4t} + c_1,\n",
    "$$\n",
    "\n",
    "after an integration by parts. Solving for $x$ leads to\n",
    "\n",
    "$$\n",
    "x(t) = c_1 e^{4t} - \\frac{1}{2} (4t+1).\n",
    "$$\n",
    "\n",
    "This is the [same result we got before](example-firstlin-nonhomog) for this problem.\n",
    "::::\n",
    "\n",
    "Clearly the secret sauce in the example above is choosing a function to multiply the equation so that the left side is a perfect product rule. The recipe is called an {term}`integrating factor`.\n",
    "\n",
    "````{proof:formula} Integrating factor\n",
    "$$\n",
    "\\mu(t) = \\exp \\left[ \\int -a(t)\\, dt \\right]\n",
    "$$\n",
    "````\n",
    "\n",
    "The reason this recipe works is that, by the chain rule and fundamental theorem of calculus,\n",
    "\n",
    "$$\n",
    "\\mu'(t) = \\mu(t) \\cdot \\dd{}{t} \\left[ \\int -a(t)\\, dt \\right] = -a(t) \\mu(t).\n",
    "$$\n",
    "\n",
    "Therefore, we transform the original problem as follows:\n",
    "\n",
    "\\begin{align*}\n",
    "\\mu  x' - a \\mu x &= \\mu f, \\\\ \n",
    "\\mu  x' + \\mu' x &= \\mu f, \\\\ \n",
    "\\dd{}{t} \\bigl[ \\mu(t) x(t) \\bigr] &= \\mu(t) f(t), \\\\ \n",
    "\\mu(t) x(t) &= \\int \\mu(t) f(t)\\, dt.\n",
    "\\end{align*}\n",
    "\n",
    "In this setup, you must include the indefinite integration constant $c_1$ before you divide the last line by $\\mu(t)$ to get the answer.\n",
    "\n",
    "Integration by parts is not much different from applying variation of parameters. In particular, both methods lead to the same two integrals, which are the hardest part to handle. You might find that the integrating factor involves less rote memorization, but the homogeneous/particular method is what we extend and use in future chapters."
   ]
  }
 ],
 "metadata": {
  "jupytext": {
   "cell_metadata_filter": "-all",
   "formats": "md:myst",
   "text_representation": {
    "extension": ".md",
    "format_name": "myst",
    "format_version": "0.12",
    "jupytext_version": "1.5.1"
   }
  },
  "kernelspec": {
   "display_name": "Matlab",
   "language": "matlab",
   "name": "matlab"
  },
  "language_info": {
   "codemirror_mode": "octave",
   "file_extension": ".m",
   "help_links": [
    {
     "text": "MetaKernel Magics",
     "url": "https://metakernel.readthedocs.io/en/latest/source/README.html"
    }
   ],
   "mimetype": "text/x-octave",
   "name": "matlab",
   "version": "0.16.11"
  },
  "source_map": [
   14
  ]
 },
 "nbformat": 4,
 "nbformat_minor": 5
}