{
 "cells": [
  {
   "cell_type": "markdown",
   "id": "increased-delta",
   "metadata": {},
   "source": [
    "# Matrix multiplication\n",
    "\n",
    "We can think of vectors as a special kind of matrix, and accordingly we can generalize matrix-vector products to matrix-matrix products. There are many equivalent ways to define these products. Here is the one we start with.\n",
    "\n",
    "````{proof:definition} Matrix times matrix\n",
    "If $\\bfA$ is $m\\times n$ and $\\bfB$ is $n\\times p$, then the product $\\bfA\\bfB$ is defined as\n",
    "\n",
    "```{math}\n",
    ":label: matrix-mult\n",
    "\\bfA\\mathbf{B} =\n",
    "\\bfA \\begin{bmatrix}\n",
    "\\mathbf{b}_1 & \\mathbf{b}_2 & \\cdots & \\mathbf{b}_p\n",
    "\\end{bmatrix}\n",
    "= \\begin{bmatrix}\n",
    "\\bfA\\mathbf{b}_1 & \\bfA\\mathbf{b}_2 & \\cdots & \\bfA\\mathbf{b}_p.\n",
    "\\end{bmatrix}\n",
    "```\n",
    "````\n",
    "\n",
    "In words, a matrix-matrix product is the horizontal concatenation of matrix-vector products involving the columns of the right-hand matrix.\n",
    "\n",
    "```{warning}\n",
    "In order to define $\\bfA\\bfB$, we require that the number of columns in $\\bfA$ is the same as the number of rows in $\\bfB$. That is, the *inner dimensions* must agree. The result has size determined by the *outer dimensions* of the original matrices.\n",
    "```\n",
    "\n",
    "When we compute a matrix product by hand, we usually don't write out the above. Instead we use a more compact definition for the individual entries of $\\mathbf{C} = \\bfA\\bfB$,\n",
    "\n",
    "```{math}\n",
    ":label: matrix-mult-element\n",
    "C_{ij} = \\sum_{k=1}^n a_{ik}b_{kj}, \\qquad i=1,\\ldots,m, \\quad j=1,\\ldots,p.\n",
    "```\n",
    "\n",
    "The sum to get a single $C_{ij}$ is what we called a \"zip\", or essentially a dot product, of row $i$ from $\\bfA$ with column $j$ from $\\bfB$.\n",
    "\n",
    "::::{admonition} Example\n",
    ":class: tip\n",
    "\n",
    "Find $\\mathbf{A}\\mathbf{B}$ if\n",
    "\n",
    "```{math}\n",
    "\\bfA = \\begin{bmatrix}\n",
    "1 & -1 \\\\ 0 & 2 \\\\ -3 & 1\n",
    "\\end{bmatrix}, \\qquad\n",
    "\\mathbf{B} = \\begin{bmatrix}\n",
    "2 & -1 & 0 & 4 \\\\ 1 & 1 & 3 & 2\n",
    "\\end{bmatrix}.\n",
    "```\n",
    "\n",
    ":::{dropdown} Solution\n",
    "\n",
    "Using {eq}`matrix-mult-element`,\n",
    "\n",
    "\\begin{align*}\n",
    "\\bfA\\mathbf{B} &= \\begin{bmatrix}\n",
    "(1)(2) + (-1)(1) & (1)(-1) + (-1)(1) & (1)(0) + (-1)(3) & (1)(4) + (-1)(2) \\\\\n",
    "(0)(2) + (2)(1) & (0)(-1) + (2)(1) & (0)(0) + (2)(3) & (0)(4) + (2)(2) \\\\\n",
    "(-3)(2) + (1)(1) & (-3)(-1) + (1)(1) & (-3)(0) + (1)(3) & (-3)(4) + (1)(2)\n",
    "\\end{bmatrix} \\\\\n",
    "& = \\begin{bmatrix}\n",
    "1 & -2 & -3 & 2 \\\\ 2 & 2 & 6 & 4 \\\\ -5 & 4 & 3 & -10\n",
    "\\end{bmatrix}\n",
    "\\end{align*}.\n",
    "\n",
    "Observe that\n",
    "\n",
    "```{math}\n",
    "\\bfA \\begin{bmatrix} 2 \\\\ 1 \\end{bmatrix} = 2 \\begin{bmatrix} 1 \\\\ 0 \\\\ -3\n",
    "\\end{bmatrix} + 1 \\begin{bmatrix} -1 \\\\ 2 \\\\ 1 \\end{bmatrix}\n",
    "= \\begin{bmatrix} 1 \\\\ 2 \\\\ -5 \\end{bmatrix},\n",
    "```\n",
    "\n",
    "and so on.\n",
    ":::\n",
    "::::\n",
    "\n",
    "MATLAB interprets the `*` operator to mean multiplication in the sense of matrices."
   ]
  },
  {
   "cell_type": "code",
   "execution_count": 1,
   "id": "emotional-official",
   "metadata": {},
   "outputs": [
    {
     "name": "stdout",
     "output_type": "stream",
     "text": [
      "\n",
      "ans =\n",
      "\n",
      "    '9.7.0.1296695 (R2019b) Update 4'\n",
      "\n"
     ]
    },
    {
     "name": "stdout",
     "output_type": "stream",
     "text": [
      "\n",
      "A =\n",
      "\n",
      "     1    -1\n",
      "     0     2\n",
      "    -3     1\n",
      "\n"
     ]
    },
    {
     "name": "stdout",
     "output_type": "stream",
     "text": [
      "\n",
      "B =\n",
      "\n",
      "     2    -1     0     4\n",
      "     1     1     3     2\n",
      "\n"
     ]
    },
    {
     "name": "stdout",
     "output_type": "stream",
     "text": [
      "\n",
      "ans =\n",
      "\n",
      "     1    -2    -3     2\n",
      "     2     2     6     4\n",
      "    -5     4     3   -10\n",
      "\n"
     ]
    },
    {
     "name": "stdout",
     "output_type": "stream",
     "text": [
      "\n",
      "ans =\n",
      "\n",
      "    -5\n",
      "\n"
     ]
    }
   ],
   "source": [
    "A = [ 1 -1; 0 2; -3 1 ]\n",
    "B = [ 2 -1 0 4; 1 1 3 2 ]\n",
    "\n",
    "A*B\n",
    "\n",
    "A(3,:)*B(:,1)"
   ]
  },
  {
   "cell_type": "markdown",
   "id": "spanish-private",
   "metadata": {},
   "source": [
    "When the sizes are not compatible, an error is thrown."
   ]
  },
  {
   "cell_type": "code",
   "execution_count": 2,
   "id": "inappropriate-relation",
   "metadata": {
    "tags": [
     "raises-exception"
    ]
   },
   "outputs": [
    {
     "name": "stdout",
     "output_type": "stream",
     "text": [
      "\n",
      "A =\n",
      "\n",
      "     1    -1\n",
      "     0     2\n",
      "\n"
     ]
    },
    {
     "name": "stdout",
     "output_type": "stream",
     "text": [
      "\n",
      "B =\n",
      "\n",
      "     2    -1\n",
      "     1     1\n",
      "     4     0\n",
      "\n"
     ]
    },
    {
     "name": "stderr",
     "output_type": "stream",
     "text": [
      "\u001b[0;31mError using *\n",
      "Incorrect dimensions for matrix multiplication. Check that the number of columns in the first matrix matches the number of rows in the second matrix. To perform elementwise multiplication, use '.*'.\n",
      "\n",
      "\u001b[0m"
     ]
    }
   ],
   "source": [
    "A = [ 1 -1; 0 2 ]        % 2x2\n",
    "B = [ 2 -1; 1 1; 4 0 ]   % 3x2\n",
    "\n",
    "A*B"
   ]
  },
  {
   "cell_type": "markdown",
   "id": "dramatic-capture",
   "metadata": {},
   "source": [
    "## Properties\n",
    "\n",
    "First, the bad news. We sort of knew this was coming, from matrix-vector multiplication.\n",
    "\n",
    "```{warning}\n",
    "Matrix multiplication is not commutative. If $\\bfA\\bfB$ is defined, then $\\bfB\\bfA$ may not be, and even if it is, it may not equal $\\bfA\\bfB$. Put another way, you cannot simply change the order of the terms in a matrix product without some explicit justification.\n",
    "```\n",
    "\n",
    "Fortunately, other familiar and handy properties of multiplication do come along for the ride:\n",
    "\n",
    "1. $(\\bfA\\bfB)\\mathbf{C}=\\bfA(\\bfB \\mathbf{C})\\qquad$  (association)\n",
    "2. $\\bfA(\\bfB+\\mathbf{C}) = \\bfA\\bfB + \\bfA\\mathbf{C}\\qquad$  (right distribution)\n",
    "3. $(\\bfA+\\bfB)\\mathbf{C} = \\bfA\\mathbf{C} + \\bfB\\mathbf{C}\\qquad$   (left distribution)\n",
    "\n",
    "These properties are easy to demonstrate (but not prove!) in MATLAB."
   ]
  },
  {
   "cell_type": "code",
   "execution_count": 3,
   "id": "mobile-toilet",
   "metadata": {},
   "outputs": [
    {
     "name": "stdout",
     "output_type": "stream",
     "text": [
      "\n",
      "A =\n",
      "\n",
      "     1    -1\n",
      "     0     2\n",
      "    -3     1\n",
      "\n"
     ]
    },
    {
     "name": "stdout",
     "output_type": "stream",
     "text": [
      "\n",
      "B =\n",
      "\n",
      "     2    -1     0     4\n",
      "     1     1     3     2\n",
      "\n"
     ]
    },
    {
     "name": "stdout",
     "output_type": "stream",
     "text": [
      "\n",
      "C =\n",
      "\n",
      "     1    -1     2\n",
      "     2     2     0\n",
      "     5    -2    -3\n",
      "     4    -1    -1\n",
      "\n"
     ]
    }
   ],
   "source": [
    "A = [ 1 -1; 0 2; -3 1 ]\n",
    "B = [ 2 -1 0 4; 1 1 3 2 ]\n",
    "C = [ 1 -1 2; 2 2 0; 5 -2 -3; 4 -1 -1 ]"
   ]
  },
  {
   "cell_type": "code",
   "execution_count": 4,
   "id": "entitled-header",
   "metadata": {},
   "outputs": [
    {
     "name": "stdout",
     "output_type": "stream",
     "text": [
      "\n",
      "ans =\n",
      "\n",
      "     0     0     0\n",
      "     0     0     0\n",
      "     0     0     0\n",
      "\n"
     ]
    }
   ],
   "source": [
    "(A*B)*C - A*(B*C)    % always zero in exact artithmetic"
   ]
  },
  {
   "cell_type": "code",
   "execution_count": 5,
   "id": "lucky-jackson",
   "metadata": {},
   "outputs": [
    {
     "name": "stdout",
     "output_type": "stream",
     "text": [
      "\n",
      "A =\n",
      "\n",
      "     8     6    10    10\n",
      "     9     1    10     5\n",
      "     1     3     2     8\n",
      "     9     5    10     1\n",
      "\n"
     ]
    },
    {
     "name": "stdout",
     "output_type": "stream",
     "text": [
      "\n",
      "B =\n",
      "\n",
      "     4     7     7     7\n",
      "     9     0     8     2\n",
      "     8     8     7     7\n",
      "    10     9     4     0\n",
      "\n",
      "\n",
      "C =\n",
      "\n",
      "     3     7     4     2\n",
      "     0     3     4     5\n",
      "     1    10     8     4\n",
      "     8     0     8     6\n",
      "\n"
     ]
    },
    {
     "name": "stdout",
     "output_type": "stream",
     "text": [
      "\n",
      "ident1 =\n",
      "\n",
      "     0     0     0     0\n",
      "     0     0     0     0\n",
      "     0     0     0     0\n",
      "     0     0     0     0\n",
      "\n"
     ]
    },
    {
     "name": "stdout",
     "output_type": "stream",
     "text": [
      "\n",
      "ident2 =\n",
      "\n",
      "     0     0     0     0\n",
      "     0     0     0     0\n",
      "     0     0     0     0\n",
      "     0     0     0     0\n",
      "\n"
     ]
    }
   ],
   "source": [
    "% some random choices\n",
    "A = round(10*rand(4,4))\n",
    "B = round(10*rand(4,4))\n",
    "C = round(10*rand(4,4))\n",
    "\n",
    "ident1 = ( A*(B+C) ) - ( A*B + A*C )    % should be zero\n",
    "\n",
    "ident2 = ( (A+B)*C ) - ( A*C + B*C )    % should be zero"
   ]
  },
  {
   "cell_type": "markdown",
   "id": "binary-marriage",
   "metadata": {},
   "source": [
    "<div style=\"max-width:608px\"><div style=\"position:relative;padding-bottom:66.118421052632%\"><iframe id=\"kaltura_player\" src=\"https://cdnapisec.kaltura.com/p/2358381/sp/235838100/embedIframeJs/uiconf_id/43030021/partner_id/2358381?iframeembed=true&playerId=kaltura_player&entry_id=1_m3bbvv5z&flashvars[streamerType]=auto&amp;flashvars[localizationCode]=en&amp;flashvars[leadWithHTML5]=true&amp;flashvars[sideBarContainer.plugin]=true&amp;flashvars[sideBarContainer.position]=left&amp;flashvars[sideBarContainer.clickToClose]=true&amp;flashvars[chapters.plugin]=true&amp;flashvars[chapters.layout]=vertical&amp;flashvars[chapters.thumbnailRotator]=false&amp;flashvars[streamSelector.plugin]=true&amp;flashvars[EmbedPlayer.SpinnerTarget]=videoHolder&amp;flashvars[dualScreen.plugin]=true&amp;flashvars[Kaltura.addCrossoriginToIframe]=true&amp;&wid=1_7y6eseqf\" width=\"608\" height=\"402\" allowfullscreen webkitallowfullscreen mozAllowFullScreen allow=\"autoplay *; fullscreen *; encrypted-media *\" sandbox=\"allow-forms allow-same-origin allow-scripts allow-top-navigation allow-pointer-lock allow-popups allow-modals allow-orientation-lock allow-popups-to-escape-sandbox allow-presentation allow-top-navigation-by-user-activation\" frameborder=\"0\" title=\"Kaltura Player\" style=\"position:absolute;top:0;left:0;width:100%;height:100%\"></iframe></div></div>"
   ]
  }
 ],
 "metadata": {
  "jupytext": {
   "cell_metadata_filter": "-all",
   "formats": "md:myst",
   "text_representation": {
    "extension": ".md",
    "format_name": "myst",
    "format_version": "0.12",
    "jupytext_version": "1.5.0"
   }
  },
  "kernelspec": {
   "display_name": "Matlab",
   "language": "matlab",
   "name": "matlab"
  },
  "language_info": {
   "codemirror_mode": "octave",
   "file_extension": ".m",
   "help_links": [
    {
     "text": "MetaKernel Magics",
     "url": "https://metakernel.readthedocs.io/en/latest/source/README.html"
    }
   ],
   "mimetype": "text/x-octave",
   "name": "matlab",
   "version": "0.16.11"
  },
  "source_map": [
   14,
   93,
   100,
   104,
   112,
   130,
   136,
   140,
   149
  ]
 },
 "nbformat": 4,
 "nbformat_minor": 5
}