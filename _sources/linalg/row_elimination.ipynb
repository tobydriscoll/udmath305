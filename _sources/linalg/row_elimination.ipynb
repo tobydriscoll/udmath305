{
 "cells": [
  {
   "cell_type": "markdown",
   "id": "funded-sacrifice",
   "metadata": {},
   "source": [
    "# Row elimination\n",
    "\n",
    "You've probably solved small systems of equations by substitution. In order to solve systems with more equations and variables, we systematize the idea as an elimination process. The goal of elimination is to transform the system to an equivalent one whose solution(s) we can deduce easily.\n",
    "\n",
    "(example-gauss-elimination)=\n",
    "\n",
    "::::{admonition} Example\n",
    ":class: tip\n",
    "\n",
    "Use elimination to solve the $3\\times 3$ system\n",
    "\n",
    "\\begin{align*}\n",
    "x_1 - x_2  - x_3 & = 2, \\\\\n",
    "3x_1 - 2x_2 & = 9, \\\\\n",
    "x_1 - 2x_2 - x_3 & = 5.\n",
    "\\end{align*}\n",
    "\n",
    ":::{dropdown} Solution\n",
    "\n",
    "The first step is to use the first equation to eliminate $x_1$ from the second and third equations. We therefore subtract 3 times equation 1 from equation 2, and 1 times equation 1 from equation 3:\n",
    "\n",
    "\\begin{align*}\n",
    " x_1 - x_2  - x_3  & = 2, \\\\\n",
    "(3x_1 - 2x_2) - 3(x_1 - x_2  - x_3) & = 9 - 3(2),\\\\\n",
    "(x_1 - 2x_2 - x_3) - 1(x_1 - x_2  - x_3) & = 5 - 1(2) .\n",
    "\\end{align*}\n",
    "\n",
    "This takes us to\n",
    "\\begin{align*}\n",
    " x_1 - x_2  - x_3  & = 2,  \\\\\n",
    "x_2 + 3x_3 & = 3, \\\\\n",
    "-x_2 &= 3.\n",
    "\\end{align*}\n",
    "\n",
    "It's tempting to grab that last equation and use it to remove $x_2$ from everything else. That certainly works, and it's what you want to do by hand. But we are aiming for a fully automatic system that works every time, so we will act as though the last equation still contains $x_3$ and is not so trivial.\n",
    "\n",
    "The next step of the recipe is to leave the first equation alone, and use the second to eliminate $x_2$ from all the others below it; in this case, it's just the third equation.\n",
    "\n",
    "\\begin{align*}\n",
    " x_1 - x_2  - x_3  & = 2, \\\\\n",
    "x_2 + 3x_3 & = 3, \\\\\n",
    "(-x_2) + (x_2+3x_3)  & = 3 + 3.\n",
    "\\end{align*}\n",
    "\n",
    "We now have a system in so-called *triangular* form,\n",
    "\n",
    "\\begin{align*}\n",
    " x_1 - x_2  - x_3  & = 2, \\\\\n",
    "x_2 + 3x_3 & = 3, \\\\\n",
    "3x_3  & = 6.\n",
    "\\end{align*}\n",
    ":::\n",
    "::::\n",
    "\n",
    "The process in [the preceding example](example-gauss-elimination) is most commonly known as {term}`Gaussian elimination`. (It's a misnomer, as the process was known in China thousands of years before Gauss, but never mind.) We could solve the triangular system at the end of the example by starting with the last equation to deduce that $x_3=2$. We then put that value into the second equation and can solve that for $x_2$, etc.\n",
    "\n",
    "Instead, though, we are going to continue to manipulate the system to get something even simpler.\n",
    "\n",
    "(example-gauss-jordan)=\n",
    "\n",
    "::::{admonition} Example (continued)\n",
    ":class: tip \n",
    "\n",
    "We continue from the end of [the preceding example](example-gauss-elimination).  Having reached the last variable and equation, we turn around and eliminate *upwards* instead:\n",
    "\n",
    "\\begin{align*}\n",
    "(x_1 - x_2 - x_3) + \\frac{1}{3}(3x_3) & = 2  +\\frac{1}{3}(6), \\\\\n",
    "(x_2 + 3x_3) - (3x_3) & = 3 - (6),\\\\\n",
    "3x_3  & = 6.\n",
    "\\end{align*}\n",
    "\n",
    "This leaves the system as\n",
    "\\begin{align*}\n",
    " x_1  -x_2 & = 4,\\\\\n",
    "x_2 & = -3,\\\\\n",
    "3x_3  & = 6.\n",
    "\\end{align*}\n",
    "\n",
    "Continue moving upwards, to the second equation, and use it to eliminate within the one above it:\n",
    "\n",
    "\\begin{align*}\n",
    "(x_1 - x_2 ) + (x_2) & = 4  + (-3),\\\\\n",
    "x_2 & = -3,\\\\\n",
    "3x_3  & = 6. \n",
    "\\end{align*}\n",
    "\n",
    "The system is now trivial: $x_1=1$, $x_2=-3$, and $3x_3=6$.\n",
    "::::\n",
    "\n",
    "That was a mouthful. We can lighten the notational load by using matrices. We start with the $m\\times (n+1)$ {term}`augmented matrix` $\\bfG = [\\bfA\\:\\bfb]$ that contains all the equation coefficients and right-side values. We repeat the previous process in augmented matrix form, starting from\n",
    "\n",
    "$$\n",
    "\\bfG = \n",
    "\\begin{bmatrix}\n",
    "1 & -1 & -1 & 2 \\\\\n",
    "3 & -2 & 0 & 9 \\\\\n",
    "1 & -2 & -1 & 5\n",
    "\\end{bmatrix}.\n",
    "$$\n",
    "\n",
    "(Observe that when a variable is absent from an equation, its corresponding element in $\\bfG$ is zero.) To ease the arithmetic, we do the elimination in MATLAB."
   ]
  },
  {
   "cell_type": "code",
   "execution_count": 1,
   "id": "headed-collins",
   "metadata": {},
   "outputs": [
    {
     "name": "stdout",
     "output_type": "stream",
     "text": [
      "\n",
      "ans =\n",
      "\n",
      "    '9.7.0.1296695 (R2019b) Update 4'\n",
      "\n"
     ]
    },
    {
     "name": "stdout",
     "output_type": "stream",
     "text": [
      "\n",
      "G =\n",
      "\n",
      "     1    -1    -1     2\n",
      "     3    -2     0     9\n",
      "     1    -2    -1     5\n",
      "\n"
     ]
    }
   ],
   "source": [
    "G = [1 -1 -1 2; 3 -2 0 9; 1 -2 -1 5]"
   ]
  },
  {
   "cell_type": "markdown",
   "id": "upper-terrace",
   "metadata": {},
   "source": [
    "The first elimination step uses multiples of the first row to eliminate below it. Note that in MATLAB, `G(1,:)` refers to the entire first row of `G`, etc."
   ]
  },
  {
   "cell_type": "code",
   "execution_count": 2,
   "id": "german-going",
   "metadata": {},
   "outputs": [
    {
     "name": "stdout",
     "output_type": "stream",
     "text": [
      "\n",
      "G =\n",
      "\n",
      "     1    -1    -1     2\n",
      "     0     1     3     3\n",
      "     1    -2    -1     5\n",
      "\n"
     ]
    }
   ],
   "source": [
    "G(2,:) = G(2,:) - 3*G(1,:)"
   ]
  },
  {
   "cell_type": "code",
   "execution_count": 3,
   "id": "educational-utilization",
   "metadata": {},
   "outputs": [
    {
     "name": "stdout",
     "output_type": "stream",
     "text": [
      "\n",
      "G =\n",
      "\n",
      "     1    -1    -1     2\n",
      "     0     1     3     3\n",
      "     0    -1     0     3\n",
      "\n"
     ]
    }
   ],
   "source": [
    "G(3,:) = G(3,:) - 1*G(1,:)"
   ]
  },
  {
   "cell_type": "markdown",
   "id": "funky-doctrine",
   "metadata": {},
   "source": [
    "Next we use the second row to eliminate below it."
   ]
  },
  {
   "cell_type": "code",
   "execution_count": 4,
   "id": "racial-recruitment",
   "metadata": {},
   "outputs": [
    {
     "name": "stdout",
     "output_type": "stream",
     "text": [
      "\n",
      "G =\n",
      "\n",
      "     1    -1    -1     2\n",
      "     0     1     3     3\n",
      "     0     0     3     6\n",
      "\n"
     ]
    }
   ],
   "source": [
    "G(3,:) = G(3,:) - (-1)*G(2,:)"
   ]
  },
  {
   "cell_type": "markdown",
   "id": "suburban-forty",
   "metadata": {},
   "source": [
    "Having reached the last row, we turn around and use it to eliminate above it in column 3."
   ]
  },
  {
   "cell_type": "code",
   "execution_count": 5,
   "id": "seven-albert",
   "metadata": {},
   "outputs": [
    {
     "name": "stdout",
     "output_type": "stream",
     "text": [
      "\n",
      "G =\n",
      "\n",
      "     1    -1    -1     2\n",
      "     0     1     0    -3\n",
      "     0     0     3     6\n",
      "\n"
     ]
    }
   ],
   "source": [
    "G(2,:) = G(2,:) - 1*G(3,:)"
   ]
  },
  {
   "cell_type": "code",
   "execution_count": 6,
   "id": "intelligent-bangkok",
   "metadata": {},
   "outputs": [
    {
     "name": "stdout",
     "output_type": "stream",
     "text": [
      "\n",
      "G =\n",
      "\n",
      "     1    -1     0     4\n",
      "     0     1     0    -3\n",
      "     0     0     3     6\n",
      "\n"
     ]
    }
   ],
   "source": [
    "G(1,:) = G(1,:) - (-1/3)*G(3,:)"
   ]
  },
  {
   "cell_type": "markdown",
   "id": "dated-chocolate",
   "metadata": {},
   "source": [
    "We move up to the second row and eliminate above that in column 2."
   ]
  },
  {
   "cell_type": "code",
   "execution_count": 7,
   "id": "wanted-budget",
   "metadata": {},
   "outputs": [
    {
     "name": "stdout",
     "output_type": "stream",
     "text": [
      "\n",
      "G =\n",
      "\n",
      "     1     0     0     1\n",
      "     0     1     0    -3\n",
      "     0     0     3     6\n",
      "\n"
     ]
    }
   ],
   "source": [
    "G(1,:) = G(1,:) - (-1)*G(2,:)"
   ]
  },
  {
   "cell_type": "markdown",
   "id": "therapeutic-fleece",
   "metadata": {},
   "source": [
    "Finally, to be super pedantic, we normalize the last row by its leading nonzero."
   ]
  },
  {
   "cell_type": "code",
   "execution_count": 8,
   "id": "negative-detail",
   "metadata": {},
   "outputs": [
    {
     "name": "stdout",
     "output_type": "stream",
     "text": [
      "\n",
      "G =\n",
      "\n",
      "     1     0     0     1\n",
      "     0     1     0    -3\n",
      "     0     0     1     2\n",
      "\n"
     ]
    }
   ],
   "source": [
    "G(3,:) = G(3,:)/G(3,3)"
   ]
  },
  {
   "cell_type": "markdown",
   "id": "fabulous-spouse",
   "metadata": {},
   "source": [
    "The result is the augmented matrix of the system\n",
    "\n",
    "$$\n",
    "\\begin{matrix}\n",
    "x_1 & & &= &1 \\\\\n",
    "& x_2 & &= &-3 \\\\\n",
    "& & x_3 &= &2,\n",
    "\\end{matrix}\n",
    "$$\n",
    "\n",
    "whose solution is obvious.\n",
    "\n",
    "The process just demonstrated is best known as *Gauss–Jordan elimination*, or more simply, {term}`row elimination`. As seen in the examples, row elimination consists of two phases, one downward (Gaussian elimination) and one upward. The goal is to put the augmented matrix into a special form.\n",
    "\n",
    "In the next section we get more formal about the process and results. For now, let's look at an example that works out differently. We solve the system having augmented matrix\n",
    "\n",
    "$$\n",
    "\\begin{bmatrix}\n",
    "1 & 1 & -1 & 4 \\\\\n",
    "1 & 2 & 2 & 3 \\\\\n",
    "2 & 1 & -5 & 9\n",
    "\\end{bmatrix}.\n",
    "$$\n",
    "\n",
    "First, we use multiples of the first row to eliminate in the first column below it."
   ]
  },
  {
   "cell_type": "code",
   "execution_count": 9,
   "id": "declared-turning",
   "metadata": {},
   "outputs": [
    {
     "name": "stdout",
     "output_type": "stream",
     "text": [
      "\n",
      "G =\n",
      "\n",
      "     1     1    -1     4\n",
      "     0     1     3    -1\n",
      "     0    -1    -3     1\n",
      "\n"
     ]
    }
   ],
   "source": [
    "G = [ 1 1 -1 4; 1 2 2 3; 2 1 -5 9];\n",
    "G(2,:) = G(2,:) - 1*G(1,:);\n",
    "G(3,:) = G(3,:) - 2*G(1,:)"
   ]
  },
  {
   "cell_type": "markdown",
   "id": "fundamental-occurrence",
   "metadata": {},
   "source": [
    "Now use a multiple of the second row to put a zero underneath it in column 2."
   ]
  },
  {
   "cell_type": "code",
   "execution_count": 10,
   "id": "sustainable-prize",
   "metadata": {},
   "outputs": [
    {
     "name": "stdout",
     "output_type": "stream",
     "text": [
      "\n",
      "G =\n",
      "\n",
      "     1     1    -1     4\n",
      "     0     1     3    -1\n",
      "     0     0     0     0\n",
      "\n"
     ]
    }
   ],
   "source": [
    "G(3,:) = G(3,:) - (-1)*G(2,:)"
   ]
  },
  {
   "cell_type": "markdown",
   "id": "shared-career",
   "metadata": {},
   "source": [
    "We have reached the last row, and it's time to turn around and eliminate upwards. But because the last row is entirely zero, it can't make changes to the rows above it. So we skip that and move up to the second row, eliminating upwards in the second column."
   ]
  },
  {
   "cell_type": "code",
   "execution_count": 11,
   "id": "wound-cooler",
   "metadata": {},
   "outputs": [
    {
     "name": "stdout",
     "output_type": "stream",
     "text": [
      "\n",
      "G =\n",
      "\n",
      "     1     0    -4     5\n",
      "     0     1     3    -1\n",
      "     0     0     0     0\n",
      "\n"
     ]
    }
   ],
   "source": [
    "G(1,:) = G(1,:) - 1*G(2,:)"
   ]
  },
  {
   "cell_type": "markdown",
   "id": "ongoing-expression",
   "metadata": {},
   "source": [
    "This is as simple as we can get things. The last row is telling us the astounding fact that $0=0$—i.e., nothing at all. The other two rows imply\n",
    "\n",
    "\\begin{align*}\n",
    "x_1 &= 5 + 4x_3, \\\\\n",
    "x_2 &= -1 - 3x_3.\n",
    "\\end{align*}\n",
    "\n",
    "Since the third row gave us no information, we take the attitude that $x_3$ is unrestricted. That is,\n",
    "\n",
    "\\begin{align*}\n",
    "x_1 &= 5 + 4s, \\\\\n",
    "x_2 &= -1 - 3s, \\\\\n",
    "x_3 &= s.\n",
    "\\end{align*}\n",
    "\n",
    "is a solution for any value of $s$, and we have an infinite family of solutions.\n",
    "\n",
    "<div style=\"max-width:608px\"><div style=\"position:relative;padding-bottom:66.118421052632%\"><iframe id=\"kaltura_player\" src=\"https://cdnapisec.kaltura.com/p/2358381/sp/235838100/embedIframeJs/uiconf_id/43030021/partner_id/2358381?iframeembed=true&playerId=kaltura_player&entry_id=1_qd7d4t08&flashvars[streamerType]=auto&amp;flashvars[localizationCode]=en&amp;flashvars[leadWithHTML5]=true&amp;flashvars[sideBarContainer.plugin]=true&amp;flashvars[sideBarContainer.position]=left&amp;flashvars[sideBarContainer.clickToClose]=true&amp;flashvars[chapters.plugin]=true&amp;flashvars[chapters.layout]=vertical&amp;flashvars[chapters.thumbnailRotator]=false&amp;flashvars[streamSelector.plugin]=true&amp;flashvars[EmbedPlayer.SpinnerTarget]=videoHolder&amp;flashvars[dualScreen.plugin]=true&amp;flashvars[Kaltura.addCrossoriginToIframe]=true&amp;&wid=1_jt4kjh69\" width=\"608\" height=\"402\" allowfullscreen webkitallowfullscreen mozAllowFullScreen allow=\"autoplay *; fullscreen *; encrypted-media *\" sandbox=\"allow-forms allow-same-origin allow-scripts allow-top-navigation allow-pointer-lock allow-popups allow-modals allow-orientation-lock allow-popups-to-escape-sandbox allow-presentation allow-top-navigation-by-user-activation\" frameborder=\"0\" title=\"Kaltura Player\" style=\"position:absolute;top:0;left:0;width:100%;height:100%\"></iframe></div></div>"
   ]
  }
 ],
 "metadata": {
  "jupytext": {
   "cell_metadata_filter": "-all",
   "formats": "md:myst",
   "text_representation": {
    "extension": ".md",
    "format_name": "myst",
    "format_version": "0.12",
    "jupytext_version": "1.5.0"
   }
  },
  "kernelspec": {
   "display_name": "Matlab",
   "language": "matlab",
   "name": "matlab"
  },
  "language_info": {
   "codemirror_mode": "octave",
   "file_extension": ".m",
   "help_links": [
    {
     "text": "MetaKernel Magics",
     "url": "https://metakernel.readthedocs.io/en/latest/source/README.html"
    }
   ],
   "mimetype": "text/x-octave",
   "name": "matlab",
   "version": "0.16.11"
  },
  "source_map": [
   14,
   118,
   120,
   124,
   128,
   130,
   134,
   136,
   140,
   144,
   146,
   150,
   152,
   156,
   158,
   186,
   190,
   194,
   196,
   200,
   202
  ]
 },
 "nbformat": 4,
 "nbformat_minor": 5
}