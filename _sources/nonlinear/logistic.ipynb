{
 "cells": [
  {
   "cell_type": "markdown",
   "id": "looking-advocate",
   "metadata": {},
   "source": [
    "# The logistic equation"
   ]
  },
  {
   "cell_type": "code",
   "execution_count": 1,
   "id": "classical-vatican",
   "metadata": {
    "tags": [
     "hide-cell"
    ]
   },
   "outputs": [
    {
     "name": "stdout",
     "output_type": "stream",
     "text": [
      "\n",
      "ans =\n",
      "\n",
      "    '9.7.0.1296695 (R2019b) Update 4'\n",
      "\n"
     ]
    }
   ],
   "source": [
    "% nothing"
   ]
  },
  {
   "cell_type": "markdown",
   "id": "superb-narrow",
   "metadata": {},
   "source": [
    "Say $x(t)$ represents a population of bacteria.[^whole] If we assume that each bacterium produces offspring and ages at a constant rate, the result is a constant *net per capita growth rate*:\n",
    "\n",
    "[^whole]: There is always a whole number of bacteria, of course, but we'll allow real values. For large populations, that shouldn't affect much.\n",
    "\n",
    ":::{math}\n",
    "\\frac{1}{x} \\dd{x}{t} = a.\n",
    ":::\n",
    "\n",
    "If $a> 0$, then this is a recipe for exponential growth, à la $x'=ax$. \n",
    "\n",
    "There are a lot of assumptions behind that model, but one of the most glaringly suspect is that it supposes an endless supply of food and space. An improved model would decrease the per capita rate as the population increases. The simplest way to do so is to let $b> 0$ be another positive parameter, and define\n",
    "\n",
    ":::{math}\n",
    ":label: eq-logistic\n",
    "\\frac{1}{x} \\dd{x}{t} = a - bx \\quad \\Longrightarrow \\quad \\dd{x}{t} = ax - bx^2.\n",
    ":::\n",
    "\n",
    ":::{index} logistic equation\n",
    ":::\n",
    "\n",
    "This is the {term}`logistic equation`.\n",
    "\n",
    "## Steady states\n",
    "\n",
    "We begin with the steady states. We have $x'=f(x)=x(a-bx)$, with roots $x=0$ and $x=a/b$. Since $f'(x)=a-2bx$, we conclude:\n",
    "\n",
    "| Steady state | Stability |\n",
    "|-----------|-----------|\n",
    "| $x_* = 0$ | unstable |\n",
    "| $x_* = \\frac{a}{b}$ | asymptotically stable | \n",
    "\n",
    ":::{index} carrying capacity\n",
    ":::\n",
    "\n",
    "The stable equilibrium value \n",
    "\n",
    "$$\n",
    "K=\\frac{a}{b}\n",
    "$$ \n",
    "\n",
    "is important and known as the {term}`carrying capacity` of the environment. We will find later that this value is the long-term fate of the system for any positive initial condition.\n",
    "\n",
    "We can get creative and show that the halfway value $x=K/2$ is also special. Still without knowing explicitly what $x$ is, we can differentiate the ODE and use the chain rule to obtain\n",
    "\n",
    ":::{math}\n",
    "x'' = ax'-2b x x' = (a-2bx)(ax-bx^2).\n",
    ":::\n",
    "\n",
    "This is zero for $x=K/2=a/2b$, suggesting that it is an inflection point in the graph of $x(t)$ against $t$.\n",
    "\n",
    "## First solution method: Substitution\n",
    "\n",
    "When it comes to solving nonlinear ODEs, we take success wherever we can find it. One source of serendipitous solutions is the idea of **variable substitution**, and the logistic equation is a nice case study. \n",
    "\n",
    "Define $z=1/x$. From the chain rule we have \n",
    "\n",
    "$$\n",
    "\\dd{z}{t} = - x^{-2} \\dd{x}{t} = -x' z^2.\n",
    "$$\n",
    "\n",
    "The logistic equation therefore converts to\n",
    "\n",
    ":::{math}\n",
    "-\\frac{z'}{z^2} = \\frac{a}{z} - \\frac{b}{z^2},\n",
    ":::\n",
    "\n",
    "or $z'=b-a z$. This is a linear equation! It even has constant coefficients. \n",
    "\n",
    "In terms of $z$, we can jump right to the solution:\n",
    "\n",
    ":::{math}\n",
    "z(t) = e^{-at}z(0) - \\frac{b}{a} \\left( e^{-at}-1 \\right) = \\frac{e^{-at}(Kz_0-1)+1)}{K}.\n",
    ":::\n",
    "\n",
    "Finally, from $x=1/z$ we get\n",
    "\n",
    ":::{math}\n",
    ":label: eq-logistic-solution\n",
    "x(t) = \\frac{K x_0}{e^{-at}(K-x_0)+x_0},\n",
    ":::\n",
    "\n",
    "where $x_0=x(0)$. \n",
    "\n",
    "The solution makes it clear that if $x_0> 0$, then $x\\to K$ as $t\\to \\infty$. The logistic curve is an S-shaped or **sigmoidal** curve. You can think of it as a nice, smooth transition between two states (the two equilibria). For example, suppose $a=6$ and $b=2$."
   ]
  },
  {
   "cell_type": "code",
   "execution_count": 2,
   "id": "constant-ethics",
   "metadata": {},
   "outputs": [
    {
     "data": {
      "image/png": "[encoded data removed]",
      "text/plain": [
       "<IPython.core.display.Image object>"
      ]
     },
     "metadata": {
      "filenames": {
       "image/png": "/home/driscoll/Dropbox/class/305/udmath305/src/_build/jupyter_execute/nonlinear/logistic_3_0.png"
      }
     },
     "output_type": "display_data"
    }
   ],
   "source": [
    "a = 6; b = 2;\n",
    "K = a/b;\n",
    "\n",
    "f = @(t,x) a*x - b*x^2;\n",
    "t = linspace(0,2.5,300);\n",
    "for x0 = K*[0.02 0.15 0.4 0.8 1.2 1.5]\n",
    "\t[t,x] = ode45(f,t,x0);\n",
    "\tplot(t,x), hold on\n",
    "end\n",
    "xlabel('t'), ylabel('x(t)')\n",
    "set(gca,'ygrid','on',...\n",
    "'ytick',K*(0:.25:1),'yticklabel',{'0','','0.5K','','K'})"
   ]
  },
  {
   "cell_type": "markdown",
   "id": "secure-marking",
   "metadata": {},
   "source": [
    "It's not easy to say why this variable substitution works out well here. It's not something you can expect to happen in every problem. The situation is very much like substitutions to solve integration problems: when they work, they're golden, and when they don't, you try something else. \n",
    "\n",
    "## Second solution method: Separation\n",
    "\n",
    "The logistic equation is separable: \n",
    "\n",
    ":::{math}\n",
    "\\frac{dx}{x(a-bx)} = dt.\n",
    ":::\n",
    "\n",
    "Hence\n",
    "\n",
    ":::{math} \n",
    "t + C = \\int \\frac{dx}{x(a-bx)} = \\frac{1}{b} \\int \\frac{dx}{x(K-x)} = \\frac{1}{bK} \\int \\left( \\frac{1}{x} + \\frac{1}{K-x} \\right)\\,dx.\n",
    ":::\n",
    "\n",
    "The last step above required converting the single fraction into partial fractions. These are now easily integrated to get logs, and the solution follows from there. Obviously we have to end up with the same solution as before."
   ]
  }
 ],
 "metadata": {
  "jupytext": {
   "cell_metadata_filter": "-all",
   "formats": "md:myst",
   "text_representation": {
    "extension": ".md",
    "format_name": "myst",
    "format_version": 0.12,
    "jupytext_version": "1.8.2"
   }
  },
  "kernelspec": {
   "display_name": "Matlab",
   "language": "matlab",
   "name": "matlab"
  },
  "language_info": {
   "codemirror_mode": "octave",
   "file_extension": ".m",
   "help_links": [
    {
     "text": "MetaKernel Magics",
     "url": "https://metakernel.readthedocs.io/en/latest/source/README.html"
    }
   ],
   "mimetype": "text/x-octave",
   "name": "matlab",
   "version": "0.16.11"
  },
  "source_map": [
   14,
   17,
   22,
   109,
   122
  ]
 },
 "nbformat": 4,
 "nbformat_minor": 5
}