{
 "cells": [
  {
   "cell_type": "markdown",
   "metadata": {},
   "source": [
    "# Impulses"
   ]
  },
  {
   "cell_type": "code",
   "execution_count": 1,
   "metadata": {
    "tags": [
     "remove-cell"
    ]
   },
   "outputs": [
    {
     "name": "stdout",
     "output_type": "stream",
     "text": [
      "\n",
      "ans =\n",
      "\n",
      "    '9.7.0.1296695 (R2019b) Update 4'\n",
      "\n"
     ]
    }
   ],
   "source": [
    "restoredefaultpath\n",
    "set(0,'defaultlinelinewidth',1)\n",
    "set(0,'defaultaxesfontsize',6)"
   ]
  },
  {
   "cell_type": "code",
   "execution_count": 2,
   "metadata": {
    "tags": [
     "remove-cell"
    ]
   },
   "outputs": [],
   "source": [
    "%plot -s 800,400 -r 160 -f png"
   ]
  },
  {
   "cell_type": "markdown",
   "metadata": {},
   "source": [
    "A step function in the forcing represents an effect that turns on and stays on. If we use a window function, the duration of the effect is limited. Now consider what happens if the window interval is $[T,T+\\epsilon]$ and we let $\\epsilon\\to 0$.\n",
    "\n",
    "If the forcing amplitude remains constant in this limit, then the total effect size must also go to zero. But if we let the forcing amplitude grow to keep the area under the curve constant, we simulate a fixed effect size acting at over an infinitesimally small window, i.e., a single instant. That reasoning motivates the following definition.\n",
    "\n",
    "````{proof:definition} Impulse response, 1st order\n",
    "Define\n",
    "\n",
    "```{math}\n",
    ":label: steps-spike\n",
    "\\delta_\\epsilon(t-T) = \\frac{H(t-T) - H(t - (T + \\epsilon))}{\\epsilon}.\n",
    "```\n",
    "\n",
    "As $\\epsilon\\to 0$, this becomes a tall, narrow spike at time $T$. Also let $x_\\epsilon(t)$ be the solution of\n",
    "\n",
    "```{math}\n",
    "x' - a x = \\delta_\\epsilon(t), \\quad x(0)=0.\n",
    "```\n",
    "\n",
    "Then the {term}`impulse response` of the linear operator $\\mathcal{A}[x]=x'-ax$ is the function\n",
    "\n",
    "```{math}\n",
    "\\lim_{\\epsilon \\to 0} x_\\epsilon(t).\n",
    "```\n",
    "````\n",
    "\n",
    "As a shorthand, we say that the impulse response is the solution of\n",
    "\n",
    "```{math}\n",
    "x' - a x = \\delta(t), \\quad x(0)=0,\n",
    "```\n",
    "\n",
    "where $\\delta(t)$ is called an {term}`impulse` or a {term}`delta function`. \n",
    "\n",
    "```{note}\n",
    "A math pedant will never fail to remind you that $\\delta(t)$ is not a true function, but rather something called a *distribution*. Just nod at them and edge away slowly.\n",
    "```\n",
    "\n",
    "(section-steps-jump)=\n",
    "\n",
    "## Impulse equals jump in value\n",
    "\n",
    "It's not difficult to derive a formula for the impulse response when the coefficient $a$ in $\\opA$ is constant. The solution to the window problem $x'-ax=\\delta_\\epsilon(t)$, $x(0)=0$ is\n",
    "\n",
    "```{math}\n",
    "x_\\epsilon(t) = \\frac{1}{a \\epsilon} \\left[  (e^{at}-1) - H(t-\\epsilon) (e^{a(t-\\epsilon)}-1) \\right].\n",
    "```\n",
    "\n",
    "As $\\epsilon\\to 0$, we only care about what happens for $t> \\epsilon$, which gives\n",
    "\n",
    "```{math}\n",
    "x_\\epsilon(t) = \\frac{e^{a t}}{a \\epsilon}  \\left( 1 - e^{-a\\epsilon} \\right), \\quad (t > \\epsilon).\n",
    "```\n",
    "\n",
    "Using L'Hôpital's Rule,\n",
    "\n",
    "```{math}\n",
    "\\lim_{\\epsilon\\to 0} x_\\epsilon(t) =e^{at} \\left[ \\lim_{\\epsilon\\to 0}  \\frac{1 - e^{-a\\epsilon}}{a \\epsilon}\\right] = e^{at}, \\quad (t > 0).\n",
    "```\n",
    "\n",
    "This result, which generalizes to the case where $a$ depends on $t$, is worth stating in words as well as a formula.\n",
    "\n",
    "```{proof:property}\n",
    "In a first-order linear ODE, the effect of an impulse is the same as an instantaneous increase by 1 in the value of the solution.\n",
    "```\n",
    "\n",
    "```{note}\n",
    "With step forcing, we stated that $x(t)$ is continuous while $x'(t)$ has jumps. For impulses, it's $x(t)$ itself that jumps. (These observations will be modified when we look at second-order problems.)\n",
    "```\n",
    "\n",
    "Applying superposition, we get the following.\n",
    "\n",
    "````{proof:theorem} Impulse forcing, 1st order\n",
    "The solution of \n",
    "\n",
    "$$\n",
    "x'-a(t)x=f(t) + k \\delta(t), \\quad x(0)=x_0, \n",
    "$$\n",
    "\n",
    "where $a(t)$ and $f(t)$ are continuous, also satisfies\n",
    "\n",
    "```{math}\n",
    "x'-a(t)x=f(t), \\quad x(0)=x_0+k,\n",
    "```\n",
    "\n",
    "for $t>0$. \n",
    "````\n",
    "\n",
    "## Solution method\n",
    "\n",
    "It is relatively straightforward to apply superposition to solve particular examples with impulse forcing. To solve a problem in the form\n",
    "\n",
    "$$\n",
    "x'-a(t)x = f(t) + k \\delta(t-T), \\quad x(0)=x_0,\n",
    "$$\n",
    "\n",
    "where $T>0$ and $a(t)$ and $f(t)$ are continuous, we break the problem into manageable subproblems:\n",
    "\n",
    "\\begin{align*}\n",
    "\\opA[x_1] &= 0, \\quad x_1(0)=x_0, \\\\\n",
    "\\opA[x_2] & = f(t), \\quad x_2(0)=0,\n",
    "\\opA[x_3] & = \\delta(t-T), \\quad x_3(0)=0.\n",
    "\\end{align*}\n",
    "\n",
    "By linearity, then, the solution we seek is $x=x_1+x_2+k x_3$. The problems for $x_1$ and $x_2$ are familiar and need no new commentary. As for $x_3$, for $0\\le t < T$ we have $x'-ax = 0$, $x(0)=0$. The solution is clearly just $x_3(t)=0$ up to time $T$. At time $T$ the value jumps up by 1, and then the forcing is again zero. Thus, $x_3(t)=e^{a(t-T)}$ for $t\\ge T$. We can express $x_3$ for all time as\n",
    "\n",
    ":::{math}\n",
    ":label: impulse-1st-solution\n",
    "x_3(t) = H(t-T) e^{a(t-T)}.\n",
    ":::\n",
    "\n",
    "If the forcing of an IVP includes additional impulses, each contributes something like {eq}`impulse-1st-solution` to the solution.\n",
    "\n",
    "::::{admonition} Example\n",
    ":class: tip\n",
    "Solve $x'+2x=3\\delta(t-1)$, with $x(0)=-4$.\n",
    "\n",
    ":::{dropdown} Solution\n",
    "The homogeneous solution of $x'+2x=0$, $x(0)=-4$ is $x_1(t)=-4e^{-2t}$. From the impulse we get\n",
    "\n",
    "$$\n",
    "x' + 2x = \\delta(t-1), \\quad x(0)=0 \\qquad \\implies \\qquad x_2(t) = H(t-1) e^{-2(t-1)}.\n",
    "$$\n",
    "\n",
    "Therefore, $x(t) = -4e^{-2t} + 3 H(t-1) e^{-2(t-1)}.$\n",
    ":::\n",
    "::::\n",
    "\n",
    "## Numerical solution\n",
    "\n",
    "The easiest way to solve these problems numerically is to solve the system first for $t<T$ and then for $t>T$, with the second solution having initial condition coming from the first. For the preceding example, we use:"
   ]
  },
  {
   "cell_type": "code",
   "execution_count": 3,
   "metadata": {},
   "outputs": [
    {
     "data": {
      "image/png": "[encoded data removed]",
      "text/plain": [
       "<IPython.core.display.Image object>"
      ]
     },
     "metadata": {
      "filenames": {
       "image/png": "/home/driscoll/Dropbox/class/305/udmath305/src/_build/jupyter_execute/steps/impulse_4_0.png"
      }
     },
     "output_type": "display_data"
    }
   ],
   "source": [
    "dxdt = @(t,x) -2*x;      % ODE without the delta\n",
    "[t1,x1] = ode45(dxdt,[0,1],-4);\n",
    "x2init = 3+x1(end);      % jump from the final value for x1\n",
    "[t2,x2] = ode45(dxdt,[1,5],x2init);\n",
    "\n",
    "t = [t1;t2];  x = [x1;x2];   % stack the time and solution vectors\n",
    "x_exact = -4*exp(-2*t) + 3*(t>=1).*exp(-2*(t-1));\n",
    "plot(t,x,'-',t,x_exact,'o','markersize',3)     \n",
    "xlabel('t'), ylabel('x(t)')\n",
    "legend('numerical','exact')\n",
    "title('Impulse forcing')"
   ]
  },
  {
   "cell_type": "markdown",
   "metadata": {},
   "source": [
    "The jump increase by 3 at $t=1$ is the only interruption to pure exponential decay."
   ]
  }
 ],
 "metadata": {
  "jupytext": {
   "formats": "md:myst",
   "text_representation": {
    "extension": ".md",
    "format_name": "myst",
    "format_version": "0.12",
    "jupytext_version": "1.5.0"
   }
  },
  "kernelspec": {
   "display_name": "Matlab",
   "language": "matlab",
   "name": "matlab"
  },
  "language_info": {
   "codemirror_mode": "octave",
   "file_extension": ".m",
   "help_links": [
    {
     "text": "MetaKernel Magics",
     "url": "https://metakernel.readthedocs.io/en/latest/source/README.html"
    }
   ],
   "mimetype": "text/x-octave",
   "name": "matlab",
   "version": "0.16.11"
  },
  "source_map": [
   13,
   17,
   26,
   31,
   164,
   176
  ]
 },
 "nbformat": 4,
 "nbformat_minor": 4
}