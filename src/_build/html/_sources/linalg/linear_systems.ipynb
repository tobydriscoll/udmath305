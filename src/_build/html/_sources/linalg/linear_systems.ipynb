{
 "cells": [
  {
   "cell_type": "markdown",
   "id": "great-immunology",
   "metadata": {},
   "source": [
    "# Linear systems\n",
    "\n",
    "When you first learned algebra, there was a lot of focus on solving equations. It's very likely that you started with linear equations, because these are the easiest ones. \n",
    "\n",
    "## One variable\n",
    "\n",
    "It might feel silly, but let's review what it means to solve the linear equation\n",
    "\n",
    "$$ax = b$$\n",
    "\n",
    "for $x$.\n",
    "\n",
    "- If $a\\neq 0$, there is a unique solution, $x=b/a$.\n",
    "- Otherwise,\n",
    "   - If also $b=0$, then every value of $x$ is a valid solution.\n",
    "   - Otherwise, there are no solutions.\n",
    "\n",
    "To summarize, for nonzero $a$ there is exactly one solution, and otherwise, depending on $b$, there are either infinitely many or zero solutions. A linear system with no solutions is called {term}`inconsistent`, with the opposite being *consistent*.\n",
    "\n",
    "Our goal is to understand equations that depend linearly on multiple variables. But before even writing out what that means, let me give away the punch line: *the only possibilities are exactly the same three outcomes described above*. The main difference is that the condition \"$a=0$\" is modified to something else.\n",
    "\n",
    "## Two variables\n",
    "\n",
    "Going one more baby step to two equations in two variables, we want to solve\n",
    "\n",
    "\\begin{align*}\n",
    "ax + by &= f, \\\\\n",
    "cx + dy &= g.\n",
    "\\end{align*}\n",
    "\n",
    "There is some easy geometric intuition here. Each equation represents a straight line in the plane, and solving both equations simultaneously means finding an intersection of these lines. Our cases above translate directly into:\n",
    "\n",
    "- If the lines are not parallel, there is a unique solution.\n",
    "- Otherwise,\n",
    "   - If the lines are identical, there are infinitely many solutions.\n",
    "   - Otherwise, there are no solutions.\n",
    "\n",
    "It's not hard to turn those statements into algebraic conditions. The slopes of the two lines are (ignoring infinities for a moment) $-a/b$ and $-c/d$, and we can say the slopes are equal if and only if $ad=bc$.\n",
    "\n",
    "- If $ad\\neq bc$, there is a single solution.\n",
    "- Otherwise,\n",
    "   - If one equation is a multiple of the other, there are infinitely many solutions.\n",
    "   - Otherwise, there are no solutions.\n",
    "\n",
    "::::{admonition} Example\n",
    ":class: tip\n",
    "Find all solutions to the equations\n",
    "\n",
    "\\begin{align*}\n",
    "x - 3y & = 1, \\\\\n",
    "-2x + 6y & = 2.\n",
    "\\end{align*}\n",
    "\n",
    ":::{dropdown} Solution\n",
    "\n",
    "We identify $(a,b,c,d)=(1,-3,-2,6)$, and $ad-bc=6-6=0$. So we know there is not a unique solution (i.e., the lines are parallel). Dividing the second equation by $-2$ leads to the equivalent system\n",
    "\n",
    "\\begin{align*}\n",
    "x - 3y & = 1, \\\\\n",
    "x - 3y & = -1.\n",
    "\\end{align*}\n",
    "\n",
    "It's now clear that there is no way to satisfy both equations simultaneously. The system is inconsistent.\n",
    ":::\n",
    "::::\n",
    "\n",
    "## General case\n",
    "\n",
    "Time to put on our big-kid pants. For $m$ equations in $ $ variables, we need to use subscripts rather than different letters for everything:\n",
    "\n",
    "\\begin{align*}\n",
    "A_{11} x_1 + A_{12} x_2 + \\cdots + A_{1n} x_n & = b_1 \\\\\n",
    "A_{21} x_1 + A_{22} x_2 + \\cdots + A_{2n} x_n & = b_2 \\\\\n",
    "& \\vdots \\\\\n",
    "A_{m1} x_1 + A_{m2} x_2 + \\cdots + A_{mn} x_n & = b_m.\n",
    "\\end{align*}\n",
    "\n",
    "The first index on $A_{ij}$ is the equation number, and the second is the variable number. It now seems obvious that we want to collect these numbers into an $m\\times n$ matrix $\\bfA$, called the {term}`coefficient matrix` of the system. We can similarly identify the two vectors\n",
    "\n",
    "$$\n",
    "\\bfx = \\begin{bmatrix}\n",
    "x_1 \\\\ x_2 \\\\ \\vdots \\\\ x_n\n",
    "\\end{bmatrix}, \\qquad\n",
    "\\bfb = \\begin{bmatrix}\n",
    "b_1 \\\\ b_2 \\\\ \\vdots \\\\ b_m\n",
    "\\end{bmatrix}.\n",
    "$$\n",
    "\n",
    "Now $\\bfA$ and $\\bfb$ are the data of the linear system, and $\\bfx$ is the solution.\n",
    "\n",
    "::::{admonition} Example\n",
    ":class: tip\n",
    "Sometimes zeros are needed as placeholders in the coefficient matrix. In the linear system\n",
    "\n",
    "\\begin{align*}\n",
    "  x_1 - x_2 + 3 x_3 &= 4,\\\\\n",
    "  2x_2 + 5x_4 &= -1,\n",
    "\\end{align*}\n",
    "\n",
    "the coefficient matrix is $2\\times 4$, \n",
    "\n",
    "$$\n",
    "\\bfA =\n",
    "\\begin{bmatrix}\n",
    "1 & -1 & 3 & 0 \\\\ 0 & 2 & 0 & 5\n",
    "\\end{bmatrix},\n",
    "$$\n",
    "\n",
    "and the right-side vector is $\\twovec{4}{-1}$.\n",
    "::::\n",
    "\n",
    "## MATLAB\n",
    "\n",
    "There is a syntax dedicated to solving linear systems. For example, here's the data for a $3\\times 3$ linear system."
   ]
  },
  {
   "cell_type": "code",
   "execution_count": 1,
   "id": "yellow-virtue",
   "metadata": {},
   "outputs": [],
   "source": [
    "A = [ 1 -1 0; 2 2 -3; 4 0 1 ];\n",
    "b = [ 3; -1; 1 ];"
   ]
  },
  {
   "cell_type": "markdown",
   "id": "forty-thumb",
   "metadata": {},
   "source": [
    "If the system has a unique solution, it is found using a backslash, `\\`."
   ]
  },
  {
   "cell_type": "code",
   "execution_count": 2,
   "id": "sapphire-imperial",
   "metadata": {},
   "outputs": [
    {
     "name": "stdout",
     "output_type": "stream",
     "text": [
      "x =\n",
      "    0.5000\n",
      "   -2.5000\n",
      "   -1.0000\n"
     ]
    }
   ],
   "source": [
    "x = A \\ b"
   ]
  },
  {
   "cell_type": "markdown",
   "id": "concrete-adoption",
   "metadata": {},
   "source": [
    "In the other circumstances, the result is less clear."
   ]
  },
  {
   "cell_type": "code",
   "execution_count": 3,
   "id": "boxed-salem",
   "metadata": {},
   "outputs": [
    {
     "name": "stdout",
     "output_type": "stream",
     "text": [
      "Warning: Matrix is close to singular or badly scaled. Results may be inaccurate. RCOND =  2.202823e-18.\n",
      "\n",
      "x =\n",
      "   1.0e+16 *\n",
      "    1.8915\n",
      "   -3.7830\n",
      "    1.8915\n"
     ]
    }
   ],
   "source": [
    "A = [ 1 2 3; 4 5 6; 7 8 9 ];\n",
    "x = A \\ b"
   ]
  },
  {
   "cell_type": "markdown",
   "id": "humanitarian-packing",
   "metadata": {},
   "source": [
    "There's some foreshadowing here. The property \"singular\" in the warning message is the one that separates systems with unique solutions from the other kinds. When this happens, the solution from backslash isn't reliable; other techniques must be used.\n",
    "\n",
    "<div style=\"max-width:608px\"><div style=\"position:relative;padding-bottom:66.118421052632%\"><iframe id=\"kaltura_player\" src=\"https://cdnapisec.kaltura.com/p/2358381/sp/235838100/embedIframeJs/uiconf_id/43030021/partner_id/2358381?iframeembed=true&playerId=kaltura_player&entry_id=1_of4m6ftk&flashvars[streamerType]=auto&amp;flashvars[localizationCode]=en&amp;flashvars[leadWithHTML5]=true&amp;flashvars[sideBarContainer.plugin]=true&amp;flashvars[sideBarContainer.position]=left&amp;flashvars[sideBarContainer.clickToClose]=true&amp;flashvars[chapters.plugin]=true&amp;flashvars[chapters.layout]=vertical&amp;flashvars[chapters.thumbnailRotator]=false&amp;flashvars[streamSelector.plugin]=true&amp;flashvars[EmbedPlayer.SpinnerTarget]=videoHolder&amp;flashvars[dualScreen.plugin]=true&amp;flashvars[Kaltura.addCrossoriginToIframe]=true&amp;&wid=1_4lkn0joh\" width=\"608\" height=\"402\" allowfullscreen webkitallowfullscreen mozAllowFullScreen allow=\"autoplay *; fullscreen *; encrypted-media *\" sandbox=\"allow-forms allow-same-origin allow-scripts allow-top-navigation allow-pointer-lock allow-popups allow-modals allow-orientation-lock allow-popups-to-escape-sandbox allow-presentation allow-top-navigation-by-user-activation\" frameborder=\"0\" title=\"Kaltura Player\" style=\"position:absolute;top:0;left:0;width:100%;height:100%\"></iframe></div></div>"
   ]
  }
 ],
 "metadata": {
  "jupytext": {
   "cell_metadata_filter": "-all",
   "formats": "md:myst",
   "text_representation": {
    "extension": ".md",
    "format_name": "myst",
    "format_version": "0.12",
    "jupytext_version": "1.5.0"
   }
  },
  "kernelspec": {
   "display_name": "Matlab",
   "language": "matlab",
   "name": "matlab"
  },
  "language_info": {
   "codemirror_mode": "octave",
   "file_extension": ".m",
   "help_links": [
    {
     "text": "MetaKernel Magics",
     "url": "https://metakernel.readthedocs.io/en/latest/source/README.html"
    }
   ],
   "mimetype": "text/x-octave",
   "name": "matlab",
   "version": "0.16.11"
  },
  "source_map": [
   14,
   131,
   134,
   138,
   140,
   144,
   147
  ]
 },
 "nbformat": 4,
 "nbformat_minor": 5
}