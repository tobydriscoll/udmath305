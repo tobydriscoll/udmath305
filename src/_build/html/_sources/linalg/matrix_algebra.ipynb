{
 "cells": [
  {
   "cell_type": "markdown",
   "metadata": {},
   "source": [
    "# Vector algebra\n",
    "\n",
    "Vectors support two basic operations. The first is addition. Two vectors of the same size can be added together elementwise. (The same is true for subtraction.) If the vectors have different sizes, the operation is not defined.\n",
    "\n",
    "````{proof:example}\n",
    "If $\\bfx=[1;\\: 2;\\: 3]$ and $\\bfy=[-2;\\: 2;\\: 0]$, then \n",
    "```{math}\n",
    "\\bfx + \\bfy = \\begin{bmatrix} -1\\\\4\\\\3 \\end{bmatrix}.\n",
    "```\n",
    "````\n",
    "\n",
    "Things get a little more interesting with multiplication. We begin with {term}`scalar multiplication`, which is between a number and a vector. Each element is multiplied by the number. In this context we call numbers {term}`scalars`, since they scale all the elements equally.\n",
    "\n",
    "````{proof:example}\n",
    "If $\\bfx=[1;\\: 2;\\: 3]$, then\n",
    "```{math}\n",
    "3\\bfx = \\begin{bmatrix} 3\\\\6\\\\9 \\end{bmatrix}.\n",
    "```\n",
    "````\n",
    "\n",
    "## Linear combination\n",
    "\n",
    "Vector addition and scalar multiplication combine to give an operation we will use over and over, both for linear algebra and differential equations.\n",
    "\n",
    "````{proof:definition} Linear combination\n",
    "Given scalars $c_1,\\ldots,c_n$ and the same number of vectors $\\bfx_1,\\ldots,\\bfx_n$, all in $\\real^m$ or $\\complex^m$, a {term}`linear combination` of them is\n",
    "```{math}\n",
    "c_1 \\bfx_1 + c_2 \\bfx_2 + \\cdots c_n \\bfx_n,\n",
    "```\n",
    "where the $c_j$ are called **coefficients** of the linear combination.\n",
    "````\n",
    "\n",
    "Linear combinations interact conveniently with linear functions. If $L$ is linear, then according to the properties in the [definition](definition-linear),\n",
    "\n",
    "$$\n",
    "L( c_1 \\bfx_1 + c_2 \\bfx_2 + \\cdots c_n \\bfx_n ) = c_1 L(\\bfx_1) + c_2 L(\\bfx_2) + \\cdots + c_n L(\\bfx_n).\n",
    "$$\n",
    "\n",
    "This mundane-looking equation is the basis of a lot of important mathematics.\n",
    "\n",
    "## Vector multiplication\n",
    "\n",
    "There are two kinds of multiplication between vectors. One is the {term}`inner product`, which is defined only for vectors of the same size. In the case of $\\real^4$, for example,\n",
    "\n",
    "```{math}\n",
    "\\bfx^T \\bfy = x_1 y_1 + x_2 y_2 + x_3 y_3 + x_4y_4.\n",
    "```\n",
    "\n",
    "```{note}\n",
    "The ${}^T$ superscript means **transpose**, which converts matrix and vector rows to columns and vice versa. \n",
    "```\n",
    "\n",
    "The result is a scalar (i.e., number). This is the same as the dot product of vector calculus in two or three dimensions.\n",
    "\n",
    "The other method of vector multiplication is *not* the cross product, however. It is the {term}`outer product`, which is defined for vectors of any sizes. It is easiest to demonstrate for small dimensions. If $\\bfx\\in\\real^3$ and $\\bfy\\in\\real^4$, then\n",
    "\n",
    "$$\n",
    "\\bfx\\bfy^T = \\begin{bmatrix}  x_1 y_1 & x_1y_2 & x_1 y_3 & x_1y_4 \\\\\n",
    "x_2 y_1 & x_2y_2 & x_2 y_3 & x_2y_4 \\\\\n",
    "x_3 y_1 & x_3y_2 & x_3 y_3 & x_3y_4  \n",
    "\\end{bmatrix}.\n",
    "$$\n",
    "\n",
    "In general, if $\\bfx$ is an $m$-vector and $\\bfy$ is an $n$-vector, then $\\bfx\\bfy^T$ is an $m\\times n$ matrix whose $(i,j)$ element is $x_iy_j$. We will not have a lot of use for outer products, but they have generated renewed interest of late in machine learning methods.\n",
    "\n",
    "## MATLAB\n",
    "\n",
    "If two vectors have the same size, then `+` and `-` work elementwise."
   ]
  },
  {
   "cell_type": "code",
   "execution_count": 1,
   "metadata": {},
   "outputs": [
    {
     "name": "stdout",
     "output_type": "stream",
     "text": [
      "ans =\n",
      "    10\n",
      "    10\n",
      "    10\n"
     ]
    }
   ],
   "source": [
    "[1;2;3] + [9;8;7]"
   ]
  },
  {
   "cell_type": "markdown",
   "metadata": {},
   "source": [
    "For column vectors of different sizes, these operations cause errors."
   ]
  },
  {
   "cell_type": "code",
   "execution_count": 2,
   "metadata": {
    "tags": [
     "raises-exception"
    ]
   },
   "outputs": [
    {
     "name": "stderr",
     "output_type": "stream",
     "text": [
      "\u001b[0;31mMatrix dimensions must agree.\n",
      "\u001b[0m"
     ]
    }
   ],
   "source": [
    "[1;2;3;4] - [1;0;1]"
   ]
  },
  {
   "cell_type": "markdown",
   "metadata": {},
   "source": [
    "As a convenience, you can add or subtract a scalar to or from a vector, and the scalar will be used with each element."
   ]
  },
  {
   "cell_type": "code",
   "execution_count": 3,
   "metadata": {},
   "outputs": [
    {
     "name": "stdout",
     "output_type": "stream",
     "text": [
      "ans =\n",
      "   1.0000 - 1.0000i\n",
      "   2.0000 - 1.0000i\n",
      "   3.0000 - 1.0000i\n"
     ]
    }
   ],
   "source": [
    "[1;2;3] - 1i"
   ]
  },
  {
   "cell_type": "markdown",
   "metadata": {},
   "source": [
    "The `*` operator does scalar multiplication."
   ]
  },
  {
   "cell_type": "code",
   "execution_count": 4,
   "metadata": {},
   "outputs": [
    {
     "name": "stdout",
     "output_type": "stream",
     "text": [
      "ans =\n",
      "    -4\n",
      "    -3\n",
      "    -2\n",
      "    -1\n"
     ]
    }
   ],
   "source": [
    "-1*[4;3;2;1]"
   ]
  },
  {
   "cell_type": "markdown",
   "metadata": {},
   "source": [
    "Inner and outer products on column vectors are achieved with `x'*y` and `x*y'`, respectively."
   ]
  },
  {
   "cell_type": "code",
   "execution_count": 5,
   "metadata": {},
   "outputs": [
    {
     "name": "stdout",
     "output_type": "stream",
     "text": [
      "innerprod1 =\n",
      "    -3\n"
     ]
    },
    {
     "name": "stdout",
     "output_type": "stream",
     "text": [
      "innerprod2 =\n",
      "    -3\n"
     ]
    }
   ],
   "source": [
    "x = [3;2;1];    % semicolon suppresses output\n",
    "y = [-1;1;-2];\n",
    "innerprod1 = x'*y\n",
    "innerprod2 = y'*x"
   ]
  },
  {
   "cell_type": "markdown",
   "metadata": {},
   "source": [
    "As the output above suggests, the inner product is commutative. The same is not true of outer products:"
   ]
  },
  {
   "cell_type": "code",
   "execution_count": 6,
   "metadata": {},
   "outputs": [
    {
     "name": "stdout",
     "output_type": "stream",
     "text": [
      "outerprod1 =\n",
      "    -3     3    -6\n",
      "    -2     2    -4\n",
      "    -1     1    -2\n"
     ]
    },
    {
     "name": "stdout",
     "output_type": "stream",
     "text": [
      "outerprod2 =\n",
      "    -3    -2    -1\n",
      "     3     2     1\n",
      "    -6    -4    -2\n"
     ]
    }
   ],
   "source": [
    "outerprod1 = x*y'\n",
    "outerprod2 = y*x'"
   ]
  }
 ],
 "metadata": {
  "jupytext": {
   "cell_metadata_filter": "-all",
   "formats": "md:myst",
   "text_representation": {
    "extension": ".md",
    "format_name": "myst",
    "format_version": "0.12",
    "jupytext_version": "1.5.0"
   }
  },
  "kernelspec": {
   "display_name": "Matlab",
   "language": "matlab",
   "name": "matlab"
  },
  "language_info": {
   "codemirror_mode": "octave",
   "file_extension": ".m",
   "help_links": [
    {
     "text": "MetaKernel Magics",
     "url": "https://metakernel.readthedocs.io/en/latest/source/README.html"
    }
   ],
   "mimetype": "text/x-octave",
   "name": "matlab",
   "version": "0.16.11"
  },
  "source_map": [
   14,
   85,
   87,
   91,
   96,
   100,
   102,
   106,
   108,
   112,
   117,
   121
  ]
 },
 "nbformat": 4,
 "nbformat_minor": 4
}