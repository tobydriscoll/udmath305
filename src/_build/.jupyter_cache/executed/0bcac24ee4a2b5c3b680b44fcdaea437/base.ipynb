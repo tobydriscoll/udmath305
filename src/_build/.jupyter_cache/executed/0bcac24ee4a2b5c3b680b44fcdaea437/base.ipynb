{
 "cells": [
  {
   "cell_type": "code",
   "execution_count": 1,
   "metadata": {},
   "outputs": [
    {
     "name": "stdout",
     "output_type": "stream",
     "text": [
      "\n",
      "ans =\n",
      "\n",
      "    10\n",
      "    10\n",
      "    10\n",
      "\n"
     ]
    }
   ],
   "source": [
    "[1;2;3] + [9;8;7]"
   ]
  },
  {
   "cell_type": "code",
   "execution_count": 2,
   "metadata": {
    "tags": [
     "raises-exception"
    ]
   },
   "outputs": [
    {
     "name": "stderr",
     "output_type": "stream",
     "text": [
      "\u001b[0;31mMatrix dimensions must agree.\n",
      "\n",
      "\u001b[0m"
     ]
    }
   ],
   "source": [
    "[1;2;3;4] - [1;0;1]"
   ]
  },
  {
   "cell_type": "code",
   "execution_count": 3,
   "metadata": {},
   "outputs": [
    {
     "name": "stdout",
     "output_type": "stream",
     "text": [
      "\n",
      "ans =\n",
      "\n",
      "   1.0000 - 1.0000i\n",
      "   2.0000 - 1.0000i\n",
      "   3.0000 - 1.0000i\n",
      "\n"
     ]
    }
   ],
   "source": [
    "[1;2;3] - 1i"
   ]
  },
  {
   "cell_type": "code",
   "execution_count": 4,
   "metadata": {},
   "outputs": [
    {
     "name": "stdout",
     "output_type": "stream",
     "text": [
      "\n",
      "ans =\n",
      "\n",
      "    -4\n",
      "    -3\n",
      "    -2\n",
      "    -1\n",
      "\n"
     ]
    }
   ],
   "source": [
    "-1*[4;3;2;1]"
   ]
  },
  {
   "cell_type": "code",
   "execution_count": 5,
   "metadata": {},
   "outputs": [
    {
     "name": "stdout",
     "output_type": "stream",
     "text": [
      "\n",
      "A =\n",
      "\n",
      "     1    -1    -1\n",
      "     3    -2     0\n",
      "     1    -2    -1\n",
      "\n"
     ]
    },
    {
     "name": "stdout",
     "output_type": "stream",
     "text": [
      "\n",
      "b =\n",
      "\n",
      "     2\n",
      "     9\n",
      "     5\n",
      "\n"
     ]
    }
   ],
   "source": [
    "A = [1 -1 -1; 3 -2 0; 1 -2 -1]    % coefficient matrix\n",
    "b = [2;9;5]    % right-side vector"
   ]
  },
  {
   "cell_type": "code",
   "execution_count": 6,
   "metadata": {},
   "outputs": [
    {
     "name": "stdout",
     "output_type": "stream",
     "text": [
      "\n",
      "ans =\n",
      "\n",
      "     2\n",
      "     9\n",
      "     5\n",
      "\n"
     ]
    }
   ],
   "source": [
    "1*A(:,1) - 3*A(:,2) + 2*A(:,3)"
   ]
  }
 ],
 "metadata": {
  "jupytext": {
   "cell_metadata_filter": "-all",
   "formats": "md:myst",
   "text_representation": {
    "extension": ".md",
    "format_name": "myst",
    "format_version": "0.12",
    "jupytext_version": "1.5.0"
   }
  },
  "kernelspec": {
   "display_name": "Matlab",
   "language": "matlab",
   "name": "matlab"
  },
  "language_info": {
   "codemirror_mode": "octave",
   "file_extension": ".m",
   "help_links": [
    {
     "text": "MetaKernel Magics",
     "url": "https://metakernel.readthedocs.io/en/latest/source/README.html"
    }
   ],
   "mimetype": "text/x-octave",
   "name": "matlab",
   "version": "0.16.11"
  },
  "source_map": [
   14,
   110,
   112,
   116,
   121,
   125,
   127,
   131,
   133,
   137,
   142,
   144
  ]
 },
 "nbformat": 4,
 "nbformat_minor": 4
}