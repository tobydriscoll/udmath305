{
 "cells": [
  {
   "cell_type": "code",
   "execution_count": 1,
   "metadata": {},
   "outputs": [
    {
     "name": "stdout",
     "output_type": "stream",
     "text": [
      "x =\n",
      "     1     2     3     4\n"
     ]
    },
    {
     "name": "stdout",
     "output_type": "stream",
     "text": [
      "y =\n",
      "    10\n",
      "    20\n",
      "    30\n"
     ]
    },
    {
     "name": "stdout",
     "output_type": "stream",
     "text": [
      "A =\n",
      "    1.0000    2.0000    3.0000\n",
      "   -4.0000   -5.0000   -6.0000\n",
      "    3.1416    1.4142    2.7183\n"
     ]
    }
   ],
   "source": [
    "x = [ 1 2 3 4 ]\n",
    "y = [10; 20; 30]\n",
    "A = [ 1 2 3; -4 -5 -6; pi sqrt(2) exp(1) ]"
   ]
  },
  {
   "cell_type": "code",
   "execution_count": 2,
   "metadata": {},
   "outputs": [
    {
     "name": "stdout",
     "output_type": "stream",
     "text": [
      "sizes =\n",
      "     1     4\n",
      "     3     1\n",
      "     3     3\n"
     ]
    }
   ],
   "source": [
    "sizes = [ size(x); size(y); size(A) ]"
   ]
  },
  {
   "cell_type": "code",
   "execution_count": 3,
   "metadata": {},
   "outputs": [
    {
     "name": "stdout",
     "output_type": "stream",
     "text": [
      "x_2 =\n",
      "     2\n"
     ]
    },
    {
     "name": "stdout",
     "output_type": "stream",
     "text": [
      "A_31 =\n",
      "    3.1416\n",
      "y_last =\n",
      "    30\n"
     ]
    }
   ],
   "source": [
    "x_2 = x(2)\n",
    "A_31 = A(3,1)\n",
    "y_last = y(end)"
   ]
  },
  {
   "cell_type": "code",
   "execution_count": 4,
   "metadata": {},
   "outputs": [
    {
     "name": "stdout",
     "output_type": "stream",
     "text": [
      "A =\n",
      "   1.0000 + 0.0000i   2.0000 + 0.0000i   3.0000 + 0.0000i\n",
      "   0.0000 + 1.0000i  -5.0000 + 0.0000i  -6.0000 + 0.0000i\n",
      "   3.1416 + 0.0000i   1.4142 + 0.0000i   2.7183 + 0.0000i\n"
     ]
    }
   ],
   "source": [
    "A(2,1) = 1i     % the imaginary unit"
   ]
  }
 ],
 "metadata": {
  "jupytext": {
   "cell_metadata_filter": "-all",
   "formats": "md:myst",
   "text_representation": {
    "extension": ".md",
    "format_name": "myst",
    "format_version": "0.12",
    "jupytext_version": "1.5.0"
   }
  },
  "kernelspec": {
   "display_name": "Matlab",
   "language": "matlab",
   "name": "matlab"
  },
  "language_info": {
   "codemirror_mode": "octave",
   "file_extension": ".m",
   "help_links": [
    {
     "text": "MetaKernel Magics",
     "url": "https://metakernel.readthedocs.io/en/latest/source/README.html"
    }
   ],
   "mimetype": "text/x-octave",
   "name": "matlab",
   "version": "0.16.11"
  },
  "source_map": [
   14,
   62,
   66,
   80,
   82,
   92,
   96,
   100
  ]
 },
 "nbformat": 4,
 "nbformat_minor": 4
}