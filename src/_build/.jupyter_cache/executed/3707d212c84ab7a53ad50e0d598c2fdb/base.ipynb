{
 "cells": [
  {
   "cell_type": "code",
   "execution_count": 1,
   "metadata": {},
   "outputs": [
    {
     "name": "stdout",
     "output_type": "stream",
     "text": [
      "\n",
      "A =\n",
      "\n",
      "     1    -1\n",
      "     0     2\n",
      "    -3     1\n",
      "\n"
     ]
    },
    {
     "name": "stdout",
     "output_type": "stream",
     "text": [
      "\n",
      "B =\n",
      "\n",
      "     2    -1     0     4\n",
      "     1     1     3     2\n",
      "\n",
      "\n",
      "ans =\n",
      "\n",
      "     1    -2    -3     2\n",
      "     2     2     6     4\n",
      "    -5     4     3   -10\n",
      "\n"
     ]
    },
    {
     "name": "stdout",
     "output_type": "stream",
     "text": [
      "\n",
      "ans =\n",
      "\n",
      "    -5\n",
      "\n"
     ]
    }
   ],
   "source": [
    "A = [ 1 -1; 0 2; -3 1 ]\n",
    "B = [ 2 -1 0 4; 1 1 3 2 ]\n",
    "\n",
    "A*B\n",
    "\n",
    "A(3,:)*B(:,1)"
   ]
  },
  {
   "cell_type": "code",
   "execution_count": 2,
   "metadata": {
    "tags": [
     "raises-exception"
    ]
   },
   "outputs": [
    {
     "name": "stdout",
     "output_type": "stream",
     "text": [
      "\n",
      "A =\n",
      "\n",
      "     1    -1\n",
      "     0     2\n",
      "\n"
     ]
    },
    {
     "name": "stdout",
     "output_type": "stream",
     "text": [
      "\n",
      "B =\n",
      "\n",
      "     2    -1\n",
      "     1     1\n",
      "     4     0\n",
      "\n"
     ]
    },
    {
     "name": "stderr",
     "output_type": "stream",
     "text": [
      "\u001b[0;31mError using *\n",
      "Incorrect dimensions for matrix multiplication. Check that the number of columns in the first matrix matches the number of rows in the second matrix. To perform elementwise multiplication, use '.*'.\n",
      "\n",
      "\u001b[0m"
     ]
    }
   ],
   "source": [
    "A = [ 1 -1; 0 2 ]        % 2x2\n",
    "B = [ 2 -1; 1 1; 4 0 ]   % 3x2\n",
    "\n",
    "A*B"
   ]
  },
  {
   "cell_type": "code",
   "execution_count": 3,
   "metadata": {},
   "outputs": [
    {
     "name": "stdout",
     "output_type": "stream",
     "text": [
      "\n",
      "A =\n",
      "\n",
      "     1    -1\n",
      "     0     2\n",
      "    -3     1\n",
      "\n"
     ]
    },
    {
     "name": "stdout",
     "output_type": "stream",
     "text": [
      "\n",
      "B =\n",
      "\n",
      "     2    -1     0     4\n",
      "     1     1     3     2\n",
      "\n"
     ]
    },
    {
     "name": "stdout",
     "output_type": "stream",
     "text": [
      "\n",
      "C =\n",
      "\n",
      "     1    -1     2\n",
      "     2     2     0\n",
      "     5    -2    -3\n",
      "     4    -1    -1\n",
      "\n"
     ]
    }
   ],
   "source": [
    "A = [ 1 -1; 0 2; -3 1 ]\n",
    "B = [ 2 -1 0 4; 1 1 3 2 ]\n",
    "C = [ 1 -1 2; 2 2 0; 5 -2 -3; 4 -1 -1 ]"
   ]
  },
  {
   "cell_type": "code",
   "execution_count": 4,
   "metadata": {},
   "outputs": [
    {
     "name": "stdout",
     "output_type": "stream",
     "text": [
      "\n",
      "ans =\n",
      "\n",
      "     0     0     0\n",
      "     0     0     0\n",
      "     0     0     0\n",
      "\n"
     ]
    }
   ],
   "source": [
    "(A*B)*C - A*(B*C)    % always zero in exact artithmetic"
   ]
  },
  {
   "cell_type": "code",
   "execution_count": 5,
   "metadata": {},
   "outputs": [
    {
     "name": "stdout",
     "output_type": "stream",
     "text": [
      "\n",
      "A =\n",
      "\n",
      "     8     6    10    10\n",
      "     9     1    10     5\n",
      "     1     3     2     8\n",
      "     9     5    10     1\n",
      "\n"
     ]
    },
    {
     "name": "stdout",
     "output_type": "stream",
     "text": [
      "\n",
      "B =\n",
      "\n",
      "     4     7     7     7\n",
      "     9     0     8     2\n",
      "     8     8     7     7\n",
      "    10     9     4     0\n",
      "\n"
     ]
    },
    {
     "name": "stdout",
     "output_type": "stream",
     "text": [
      "\n",
      "C =\n",
      "\n",
      "     3     7     4     2\n",
      "     0     3     4     5\n",
      "     1    10     8     4\n",
      "     8     0     8     6\n",
      "\n"
     ]
    },
    {
     "name": "stdout",
     "output_type": "stream",
     "text": [
      "\n",
      "ans =\n",
      "\n",
      "     0     0     0     0\n",
      "     0     0     0     0\n",
      "     0     0     0     0\n",
      "     0     0     0     0\n",
      "\n"
     ]
    },
    {
     "name": "stdout",
     "output_type": "stream",
     "text": [
      "\n",
      "ans =\n",
      "\n",
      "     0     0     0     0\n",
      "     0     0     0     0\n",
      "     0     0     0     0\n",
      "     0     0     0     0\n",
      "\n"
     ]
    }
   ],
   "source": [
    "% some random choices\n",
    "A = round(10*rand(4,4))\n",
    "B = round(10*rand(4,4))\n",
    "C = round(10*rand(4,4))\n",
    "\n",
    "( A*(B+C) ) - ( A*B + A*C )    % should be zero\n",
    "\n",
    "( (A+B)*C ) - ( A*C + B*C )    % should be zero"
   ]
  }
 ],
 "metadata": {
  "jupytext": {
   "cell_metadata_filter": "-all",
   "formats": "md:myst",
   "text_representation": {
    "extension": ".md",
    "format_name": "myst",
    "format_version": "0.12",
    "jupytext_version": "1.5.0"
   }
  },
  "kernelspec": {
   "display_name": "Matlab",
   "language": "matlab",
   "name": "matlab"
  },
  "language_info": {
   "codemirror_mode": "octave",
   "file_extension": ".m",
   "help_links": [
    {
     "text": "MetaKernel Magics",
     "url": "https://metakernel.readthedocs.io/en/latest/source/README.html"
    }
   ],
   "mimetype": "text/x-octave",
   "name": "matlab",
   "version": "0.16.11"
  },
  "source_map": [
   14,
   88,
   95,
   99,
   107,
   125,
   131,
   135
  ]
 },
 "nbformat": 4,
 "nbformat_minor": 4
}