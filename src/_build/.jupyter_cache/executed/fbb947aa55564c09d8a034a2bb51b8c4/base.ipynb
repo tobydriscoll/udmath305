{
 "cells": [
  {
   "cell_type": "code",
   "execution_count": 1,
   "metadata": {},
   "outputs": [
    {
     "name": "stdout",
     "output_type": "stream",
     "text": [
      "\n",
      "S =\n",
      "\n",
      "    2.0000         0    4.0000    3.0000    4.0000\n",
      "   -2.0000         0    2.0000  -13.0000   40.0000\n",
      "   -4.0000    5.0000   -7.0000  -10.0000    9.0000\n",
      "    1.0000   15.0000    2.0000   -4.5000   29.0000\n",
      "\n"
     ]
    }
   ],
   "source": [
    "A = [\n",
    "     2    0    4    3 \n",
    "    -2    0    2  -13\n",
    "    -4    5   -7  -10 \n",
    "     1   15    2   -4.5\n",
    "    ];\n",
    "b = [ 4; 40; 9; 29 ];\n",
    "\n",
    "S = [A, b]"
   ]
  },
  {
   "cell_type": "code",
   "execution_count": 2,
   "metadata": {},
   "outputs": [
    {
     "name": "stdout",
     "output_type": "stream",
     "text": [
      "\n",
      "S =\n",
      "\n",
      "    1.0000         0    2.0000    1.5000    2.0000\n",
      "   -2.0000         0    2.0000  -13.0000   40.0000\n",
      "   -4.0000    5.0000   -7.0000  -10.0000    9.0000\n",
      "    1.0000   15.0000    2.0000   -4.5000   29.0000\n",
      "\n"
     ]
    }
   ],
   "source": [
    "S(1,:) = S(1,:)/S(1,1)"
   ]
  },
  {
   "cell_type": "code",
   "execution_count": 3,
   "metadata": {},
   "outputs": [
    {
     "name": "stdout",
     "output_type": "stream",
     "text": [
      "\n",
      "S =\n",
      "\n",
      "    1.0000         0    2.0000    1.5000    2.0000\n",
      "         0         0    6.0000  -10.0000   44.0000\n",
      "         0    5.0000    1.0000   -4.0000   17.0000\n",
      "         0   15.0000         0   -6.0000   27.0000\n",
      "\n"
     ]
    }
   ],
   "source": [
    "S(2,:) = S(2,:) - S(2,1)*S(1,:);\n",
    "S(3,:) = S(3,:) - S(3,1)*S(1,:);\n",
    "S(4,:) = S(4,:) - S(4,1)*S(1,:)"
   ]
  },
  {
   "cell_type": "code",
   "execution_count": 4,
   "metadata": {},
   "outputs": [
    {
     "name": "stdout",
     "output_type": "stream",
     "text": [
      "\n",
      "S =\n",
      "\n",
      "    1.0000         0    2.0000    1.5000    2.0000\n",
      "         0    5.0000    1.0000   -4.0000   17.0000\n",
      "         0         0    6.0000  -10.0000   44.0000\n",
      "         0   15.0000         0   -6.0000   27.0000\n",
      "\n"
     ]
    }
   ],
   "source": [
    "S(2:3,:) = S([3 2],:)"
   ]
  },
  {
   "cell_type": "code",
   "execution_count": 5,
   "metadata": {},
   "outputs": [
    {
     "name": "stdout",
     "output_type": "stream",
     "text": [
      "\n",
      "S =\n",
      "\n",
      "    1.0000         0    2.0000    1.5000    2.0000\n",
      "         0    1.0000    0.2000   -0.8000    3.4000\n",
      "         0         0    6.0000  -10.0000   44.0000\n",
      "         0   15.0000         0   -6.0000   27.0000\n",
      "\n"
     ]
    }
   ],
   "source": [
    "S(2,:) = S(2,:)/S(2,2)"
   ]
  },
  {
   "cell_type": "code",
   "execution_count": 6,
   "metadata": {},
   "outputs": [
    {
     "name": "stdout",
     "output_type": "stream",
     "text": [
      "\n",
      "S =\n",
      "\n",
      "    1.0000         0    2.0000    1.5000    2.0000\n",
      "         0    1.0000    0.2000   -0.8000    3.4000\n",
      "         0         0    6.0000  -10.0000   44.0000\n",
      "         0         0   -3.0000    6.0000  -24.0000\n",
      "\n"
     ]
    }
   ],
   "source": [
    "S(3,:) = S(3,:) - S(3,2)*S(2,:);\n",
    "S(4,:) = S(4,:) - S(4,2)*S(2,:)"
   ]
  },
  {
   "cell_type": "code",
   "execution_count": 7,
   "metadata": {},
   "outputs": [
    {
     "name": "stdout",
     "output_type": "stream",
     "text": [
      "\n",
      "S =\n",
      "\n",
      "    1.0000         0    2.0000    1.5000    2.0000\n",
      "         0    1.0000    0.2000   -0.8000    3.4000\n",
      "         0         0    1.0000   -1.6667    7.3333\n",
      "         0         0         0    1.0000   -2.0000\n",
      "\n"
     ]
    }
   ],
   "source": [
    "S(3,:) = S(3,:)/S(3,3);\n",
    "S(4,:) = S(4,:) - S(4,3)*S(3,:)"
   ]
  },
  {
   "cell_type": "code",
   "execution_count": 8,
   "metadata": {},
   "outputs": [
    {
     "name": "stdout",
     "output_type": "stream",
     "text": [
      "\n",
      "S =\n",
      "\n",
      "    1.0000         0    2.0000    1.5000    2.0000\n",
      "         0    1.0000    0.2000   -0.8000    3.4000\n",
      "         0         0    1.0000   -1.6667    7.3333\n",
      "         0         0         0    1.0000   -2.0000\n",
      "\n"
     ]
    }
   ],
   "source": [
    "S(4,:) = S(4,:)/S(4,4)"
   ]
  },
  {
   "cell_type": "code",
   "execution_count": 9,
   "metadata": {},
   "outputs": [
    {
     "name": "stdout",
     "output_type": "stream",
     "text": [
      "\n",
      "S =\n",
      "\n",
      "    1.0000         0    2.0000         0    5.0000\n",
      "         0    1.0000    0.2000         0    1.8000\n",
      "         0         0    1.0000         0    4.0000\n",
      "         0         0         0    1.0000   -2.0000\n",
      "\n"
     ]
    }
   ],
   "source": [
    "S(3,:) = S(3,:) - S(3,4)*S(4,:);\n",
    "S(2,:) = S(2,:) - S(2,4)*S(4,:);\n",
    "S(1,:) = S(1,:) - S(1,4)*S(4,:)"
   ]
  },
  {
   "cell_type": "code",
   "execution_count": 10,
   "metadata": {},
   "outputs": [
    {
     "name": "stdout",
     "output_type": "stream",
     "text": [
      "\n",
      "S =\n",
      "\n",
      "    1.0000         0         0         0   -3.0000\n",
      "         0    1.0000         0         0    1.0000\n",
      "         0         0    1.0000         0    4.0000\n",
      "         0         0         0    1.0000   -2.0000\n",
      "\n"
     ]
    }
   ],
   "source": [
    "S(2,:) = S(2,:) - S(2,3)*S(3,:);\n",
    "S(1,:) = S(1,:) - S(1,3)*S(3,:)"
   ]
  },
  {
   "cell_type": "code",
   "execution_count": 11,
   "metadata": {},
   "outputs": [],
   "source": [
    "S(1,:) = S(1,:) - S(1,2)*S(2,:);"
   ]
  }
 ],
 "metadata": {
  "jupytext": {
   "cell_metadata_filter": "-all",
   "formats": "md:myst",
   "text_representation": {
    "extension": ".md",
    "format_name": "myst",
    "format_version": "0.12",
    "jupytext_version": "1.5.1"
   }
  },
  "kernelspec": {
   "display_name": "MATLAB",
   "language": "matlab",
   "name": "matlab"
  },
  "language_info": {
   "codemirror_mode": "octave",
   "file_extension": ".m",
   "help_links": [
    {
     "text": "MetaKernel Magics",
     "url": "https://metakernel.readthedocs.io/en/latest/source/README.html"
    }
   ],
   "mimetype": "text/x-octave",
   "name": "matlab",
   "version": "0.16.11"
  },
  "source_map": [
   14,
   77,
   87,
   91,
   93,
   97,
   101,
   105,
   107,
   111,
   113,
   117,
   120,
   124,
   127,
   131,
   133,
   137,
   141,
   145,
   148,
   152,
   154
  ]
 },
 "nbformat": 4,
 "nbformat_minor": 4
}