{
 "cells": [
  {
   "cell_type": "code",
   "execution_count": 1,
   "metadata": {},
   "outputs": [
    {
     "name": "stdout",
     "output_type": "stream",
     "text": [
      "G =\n",
      "     1    -1    -1     2\n",
      "     3    -2     0     9\n",
      "     1    -2    -1     5\n"
     ]
    }
   ],
   "source": [
    "G = [1 -1 -1 2; 3 -2 0 9; 1 -2 -1 5]"
   ]
  },
  {
   "cell_type": "code",
   "execution_count": 2,
   "metadata": {},
   "outputs": [
    {
     "name": "stdout",
     "output_type": "stream",
     "text": [
      "G =\n",
      "     1    -1    -1     2\n",
      "     0     1     3     3\n",
      "     1    -2    -1     5\n"
     ]
    }
   ],
   "source": [
    "G(2,:) = G(2,:) - 3*G(1,:)"
   ]
  },
  {
   "cell_type": "code",
   "execution_count": 3,
   "metadata": {},
   "outputs": [
    {
     "name": "stdout",
     "output_type": "stream",
     "text": [
      "G =\n",
      "     1    -1    -1     2\n",
      "     0     1     3     3\n",
      "     0    -1     0     3\n"
     ]
    }
   ],
   "source": [
    "G(3,:) = G(3,:) - 1*G(1,:)"
   ]
  },
  {
   "cell_type": "code",
   "execution_count": 4,
   "metadata": {},
   "outputs": [
    {
     "name": "stdout",
     "output_type": "stream",
     "text": [
      "G =\n",
      "     1    -1    -1     2\n",
      "     0     1     3     3\n",
      "     0     0     3     6\n"
     ]
    }
   ],
   "source": [
    "G(3,:) = G(3,:) - (-1)*G(2,:)"
   ]
  },
  {
   "cell_type": "code",
   "execution_count": 5,
   "metadata": {},
   "outputs": [
    {
     "name": "stdout",
     "output_type": "stream",
     "text": [
      "G =\n",
      "     1    -1    -1     2\n",
      "     0     1     0    -3\n",
      "     0     0     3     6\n"
     ]
    }
   ],
   "source": [
    "G(2,:) = G(2,:) - 1*G(3,:)"
   ]
  },
  {
   "cell_type": "code",
   "execution_count": 6,
   "metadata": {},
   "outputs": [
    {
     "name": "stdout",
     "output_type": "stream",
     "text": [
      "G =\n",
      "     1    -1     0     4\n",
      "     0     1     0    -3\n",
      "     0     0     3     6\n"
     ]
    }
   ],
   "source": [
    "G(1,:) = G(1,:) - (-1/3)*G(3,:)"
   ]
  },
  {
   "cell_type": "code",
   "execution_count": 7,
   "metadata": {},
   "outputs": [
    {
     "name": "stdout",
     "output_type": "stream",
     "text": [
      "G =\n",
      "     1     0     0     1\n",
      "     0     1     0    -3\n",
      "     0     0     3     6\n"
     ]
    }
   ],
   "source": [
    "G(1,:) = G(1,:) - (-1)*G(2,:)"
   ]
  },
  {
   "cell_type": "code",
   "execution_count": 8,
   "metadata": {},
   "outputs": [
    {
     "name": "stdout",
     "output_type": "stream",
     "text": [
      "G =\n",
      "     1     0     0     1\n",
      "     0     1     0    -3\n",
      "     0     0     1     2\n"
     ]
    }
   ],
   "source": [
    "G(3,:) = G(3,:)/G(3,3)"
   ]
  },
  {
   "cell_type": "code",
   "execution_count": 9,
   "metadata": {},
   "outputs": [
    {
     "name": "stdout",
     "output_type": "stream",
     "text": [
      "G =\n",
      "     1     1    -1     4\n",
      "     0     1     3    -1\n",
      "     0    -1    -3     1\n"
     ]
    }
   ],
   "source": [
    "G = [ 1 1 -1 4; 1 2 2 3; 2 1 -5 9];\n",
    "G(2,:) = G(2,:) - 1*G(1,:);\n",
    "G(3,:) = G(3,:) - 2*G(1,:)"
   ]
  },
  {
   "cell_type": "code",
   "execution_count": 10,
   "metadata": {},
   "outputs": [
    {
     "name": "stdout",
     "output_type": "stream",
     "text": [
      "G =\n",
      "     1     1    -1     4\n",
      "     0     1     3    -1\n",
      "     0     0     0     0\n"
     ]
    }
   ],
   "source": [
    "G(3,:) = G(3,:) - (-1)*G(2,:)"
   ]
  },
  {
   "cell_type": "code",
   "execution_count": 11,
   "metadata": {},
   "outputs": [
    {
     "name": "stdout",
     "output_type": "stream",
     "text": [
      "G =\n",
      "     1     0    -4     5\n",
      "     0     1     3    -1\n",
      "     0     0     0     0\n"
     ]
    }
   ],
   "source": [
    "G(1,:) = G(1,:) - 1*G(2,:)"
   ]
  }
 ],
 "metadata": {
  "jupytext": {
   "cell_metadata_filter": "-all",
   "formats": "md:myst",
   "text_representation": {
    "extension": ".md",
    "format_name": "myst",
    "format_version": "0.12",
    "jupytext_version": "1.5.0"
   }
  },
  "kernelspec": {
   "display_name": "Matlab",
   "language": "matlab",
   "name": "matlab"
  },
  "language_info": {
   "codemirror_mode": "octave",
   "file_extension": ".m",
   "help_links": [
    {
     "text": "MetaKernel Magics",
     "url": "https://metakernel.readthedocs.io/en/latest/source/README.html"
    }
   ],
   "mimetype": "text/x-octave",
   "name": "matlab",
   "version": "0.16.11"
  },
  "source_map": [
   14,
   91,
   93,
   97,
   101,
   103,
   107,
   109,
   113,
   117,
   119,
   123,
   125,
   129,
   131,
   159,
   163,
   167,
   169,
   173,
   175
  ]
 },
 "nbformat": 4,
 "nbformat_minor": 4
}