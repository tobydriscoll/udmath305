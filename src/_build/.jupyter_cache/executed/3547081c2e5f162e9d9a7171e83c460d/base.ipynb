{
 "cells": [
  {
   "cell_type": "code",
   "execution_count": 1,
   "metadata": {},
   "outputs": [
    {
     "name": "stdout",
     "output_type": "stream",
     "text": [
      "ans =\n",
      "    10\n",
      "    10\n",
      "    10\n"
     ]
    }
   ],
   "source": [
    "[1;2;3] + [9;8;7]"
   ]
  },
  {
   "cell_type": "code",
   "execution_count": 2,
   "metadata": {
    "tags": [
     "raises-exception"
    ]
   },
   "outputs": [
    {
     "name": "stderr",
     "output_type": "stream",
     "text": [
      "\u001b[0;31mMatrix dimensions must agree.\n",
      "\u001b[0m"
     ]
    }
   ],
   "source": [
    "[1;2;3;4] - [1;0;1]"
   ]
  },
  {
   "cell_type": "code",
   "execution_count": 3,
   "metadata": {},
   "outputs": [
    {
     "name": "stdout",
     "output_type": "stream",
     "text": [
      "ans =\n",
      "   1.0000 - 1.0000i\n",
      "   2.0000 - 1.0000i\n",
      "   3.0000 - 1.0000i\n"
     ]
    }
   ],
   "source": [
    "[1;2;3] - 1i"
   ]
  },
  {
   "cell_type": "code",
   "execution_count": 4,
   "metadata": {},
   "outputs": [
    {
     "name": "stdout",
     "output_type": "stream",
     "text": [
      "ans =\n",
      "    -4\n",
      "    -3\n",
      "    -2\n",
      "    -1\n"
     ]
    }
   ],
   "source": [
    "-1*[4;3;2;1]"
   ]
  },
  {
   "cell_type": "code",
   "execution_count": 5,
   "metadata": {},
   "outputs": [
    {
     "name": "stdout",
     "output_type": "stream",
     "text": [
      "innerprod1 =\n",
      "    -3\n"
     ]
    },
    {
     "name": "stdout",
     "output_type": "stream",
     "text": [
      "innerprod2 =\n",
      "    -3\n"
     ]
    }
   ],
   "source": [
    "x = [3;2;1];    % semicolon suppresses output\n",
    "y = [-1;1;-2];\n",
    "innerprod1 = x'*y\n",
    "innerprod2 = y'*x"
   ]
  },
  {
   "cell_type": "code",
   "execution_count": 6,
   "metadata": {},
   "outputs": [
    {
     "name": "stdout",
     "output_type": "stream",
     "text": [
      "outerprod1 =\n",
      "    -3     3    -6\n",
      "    -2     2    -4\n",
      "    -1     1    -2\n"
     ]
    },
    {
     "name": "stdout",
     "output_type": "stream",
     "text": [
      "outerprod2 =\n",
      "    -3    -2    -1\n",
      "     3     2     1\n",
      "    -6    -4    -2\n"
     ]
    }
   ],
   "source": [
    "outerprod1 = x*y'\n",
    "outerprod2 = y*x'"
   ]
  }
 ],
 "metadata": {
  "jupytext": {
   "cell_metadata_filter": "-all",
   "formats": "md:myst",
   "text_representation": {
    "extension": ".md",
    "format_name": "myst",
    "format_version": "0.12",
    "jupytext_version": "1.5.0"
   }
  },
  "kernelspec": {
   "display_name": "Matlab",
   "language": "matlab",
   "name": "matlab"
  },
  "language_info": {
   "codemirror_mode": "octave",
   "file_extension": ".m",
   "help_links": [
    {
     "text": "MetaKernel Magics",
     "url": "https://metakernel.readthedocs.io/en/latest/source/README.html"
    }
   ],
   "mimetype": "text/x-octave",
   "name": "matlab",
   "version": "0.16.11"
  },
  "source_map": [
   14,
   85,
   87,
   91,
   96,
   100,
   102,
   106,
   108,
   112,
   117,
   121
  ]
 },
 "nbformat": 4,
 "nbformat_minor": 4
}