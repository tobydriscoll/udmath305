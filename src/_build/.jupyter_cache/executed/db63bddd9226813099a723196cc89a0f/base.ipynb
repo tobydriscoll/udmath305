{
 "cells": [
  {
   "cell_type": "code",
   "execution_count": 1,
   "metadata": {},
   "outputs": [
    {
     "name": "stderr",
     "output_type": "stream",
     "text": [
      "\u001b[0;31mUnrecognized function or variable 'gobjects'.\n",
      "\n",
      "Error in newplot (line 47)\n",
      "fig = gobjects(0);\n",
      "\n",
      "Error in fplot (line 159)\n",
      "        cax = newplot(cax);\n",
      "\n",
      "\u001b[0m"
     ]
    }
   ],
   "source": [
    "a = 0.5;\n",
    "for C = [-1 -0.5 -0.25 0 0.25 0.5 1]\n",
    "    fplot(@(t) C*exp(a*t),[0,6])\n",
    "    hold on\n",
    "end\n",
    "\n",
    "plot(2,5,'ko')\n",
    "fplot(@(t) 5*exp(a*(t-2)),[0,6])"
   ]
  },
  {
   "cell_type": "code",
   "execution_count": 2,
   "metadata": {},
   "outputs": [],
   "source": [
    "%plot -s 750,400 -r 100"
   ]
  },
  {
   "cell_type": "code",
   "execution_count": 3,
   "metadata": {},
   "outputs": [
    {
     "name": "stderr",
     "output_type": "stream",
     "text": [
      "\u001b[0;31mUnrecognized function or variable 'findall'.\n",
      "\n",
      "Error in clearscribe (line 5)\n",
      "  scribeax = findall(fig,'Type','annotationpane');\n",
      "\n",
      "Error in clf (line 83)\n",
      "clearscribe(fig);\n",
      "\n",
      "\u001b[0m"
     ]
    },
    {
     "name": "stderr",
     "output_type": "stream",
     "text": [
      "\u001b[0;31m\n",
      "  File /Applications/MATLAB_R2020b.app/toolbox/matlab/graphics/printing/+matlab/+graphics/+internal/+export/firePrintBehavior.p, line 0, in firePrintBehavior\n",
      "\n",
      "  File /Applications/MATLAB_R2020b.app/toolbox/matlab/graphics/printing/private/fireprintbehavior.m, line 6, in fireprintbehavior\n",
      "\n",
      "  File /Applications/MATLAB_R2020b.app/toolbox/matlab/graphics/printing/private/printjobContentChanges.p, line 0, in printjobContentChanges\n",
      "\n",
      "  File /Applications/MATLAB_R2020b.app/toolbox/matlab/graphics/printing/private/alternatePrintPath.p, line 0, in alternatePrintPath\n",
      "\n",
      "  File /Applications/MATLAB_R2020b.app/toolbox/matlab/graphics/printing/private/alternatePrintPath.p, line 0, in alternatePrintPath\n",
      "\n",
      "  File /Applications/MATLAB_R2020b.app/toolbox/matlab/graphics/printing/private/alternatePrintPath.p, line 0, in alternatePrintPath\n",
      "\n",
      "  File /Applications/MATLAB_R2020b.app/toolbox/matlab/graphics/printing/private/alternatePrintPath.p, line 0, in alternatePrintPath\n",
      "\n",
      "  File /Applications/MATLAB_R2020b.app/toolbox/matlab/graphics/printing/print.m, line 83, in print\n",
      "\n",
      "  File , line 0, in @(h,i)print(h,sprintf('/var/folders/_x/42sfkp9j3yvf8b8j445p9bmdbmhb5t/T/tmpi6g0j0gy/%06i',i),'-dpng','-r100')\n",
      "Undefined function 'findall' for input arguments of type 'matlab.ui.Figure'.\n",
      "\n",
      "\u001b[0m"
     ]
    }
   ],
   "source": [
    "f = @(t,x) 0.1*x;\n",
    "t = linspace(1,5,300);\n",
    "[t,x] = ode45(f,t,3);\n",
    "clf\n",
    "plot(t,x)\n",
    "xlabel('t'), ylabel('x')"
   ]
  },
  {
   "cell_type": "code",
   "execution_count": 4,
   "metadata": {},
   "outputs": [
    {
     "name": "stderr",
     "output_type": "stream",
     "text": [
      "\u001b[0;31mUnrecognized function or variable 'gobjects'.\n",
      "\n",
      "Error in newplot (line 47)\n",
      "fig = gobjects(0);\n",
      "\n",
      "Error in matlab.graphics.internal.newplotwrapper (line 11)\n",
      "axReturn = newplot(varargin{:});\n",
      "\n",
      "\u001b[0m"
     ]
    },
    {
     "name": "stderr",
     "output_type": "stream",
     "text": [
      "\u001b[0;31m\n",
      "  File /Applications/MATLAB_R2020b.app/toolbox/matlab/graphics/printing/+matlab/+graphics/+internal/+export/firePrintBehavior.p, line 0, in firePrintBehavior\n",
      "\n",
      "  File /Applications/MATLAB_R2020b.app/toolbox/matlab/graphics/printing/private/fireprintbehavior.m, line 6, in fireprintbehavior\n",
      "\n",
      "  File /Applications/MATLAB_R2020b.app/toolbox/matlab/graphics/printing/private/printjobContentChanges.p, line 0, in printjobContentChanges\n",
      "\n",
      "  File /Applications/MATLAB_R2020b.app/toolbox/matlab/graphics/printing/private/alternatePrintPath.p, line 0, in alternatePrintPath\n",
      "\n",
      "  File /Applications/MATLAB_R2020b.app/toolbox/matlab/graphics/printing/private/alternatePrintPath.p, line 0, in alternatePrintPath\n",
      "\n",
      "  File /Applications/MATLAB_R2020b.app/toolbox/matlab/graphics/printing/private/alternatePrintPath.p, line 0, in alternatePrintPath\n",
      "\n",
      "  File /Applications/MATLAB_R2020b.app/toolbox/matlab/graphics/printing/private/alternatePrintPath.p, line 0, in alternatePrintPath\n",
      "\n",
      "  File /Applications/MATLAB_R2020b.app/toolbox/matlab/graphics/printing/print.m, line 83, in print\n",
      "\n",
      "  File , line 0, in @(h,i)print(h,sprintf('/var/folders/_x/42sfkp9j3yvf8b8j445p9bmdbmhb5t/T/tmpjd0l3hkq/%06i',i),'-dpng','-r100')\n",
      "Undefined function 'findall' for input arguments of type 'matlab.ui.Figure'.\n",
      "\n",
      "\u001b[0m"
     ]
    }
   ],
   "source": [
    "semilogy(t,x)\n",
    "xlabel('t'), ylabel('x')"
   ]
  },
  {
   "cell_type": "code",
   "execution_count": 5,
   "metadata": {},
   "outputs": [
    {
     "name": "stderr",
     "output_type": "stream",
     "text": [
      "\u001b[0;31mUnrecognized function or variable 'findall'.\n",
      "\n",
      "Error in clearscribe (line 5)\n",
      "  scribeax = findall(fig,'Type','annotationpane');\n",
      "\n",
      "Error in clf (line 83)\n",
      "clearscribe(fig);\n",
      "\n",
      "\u001b[0m"
     ]
    },
    {
     "name": "stderr",
     "output_type": "stream",
     "text": [
      "\u001b[0;31m\n",
      "  File /Applications/MATLAB_R2020b.app/toolbox/matlab/graphics/printing/+matlab/+graphics/+internal/+export/firePrintBehavior.p, line 0, in firePrintBehavior\n",
      "\n",
      "  File /Applications/MATLAB_R2020b.app/toolbox/matlab/graphics/printing/private/fireprintbehavior.m, line 6, in fireprintbehavior\n",
      "\n",
      "  File /Applications/MATLAB_R2020b.app/toolbox/matlab/graphics/printing/private/printjobContentChanges.p, line 0, in printjobContentChanges\n",
      "\n",
      "  File /Applications/MATLAB_R2020b.app/toolbox/matlab/graphics/printing/private/alternatePrintPath.p, line 0, in alternatePrintPath\n",
      "\n",
      "  File /Applications/MATLAB_R2020b.app/toolbox/matlab/graphics/printing/private/alternatePrintPath.p, line 0, in alternatePrintPath\n",
      "\n",
      "  File /Applications/MATLAB_R2020b.app/toolbox/matlab/graphics/printing/private/alternatePrintPath.p, line 0, in alternatePrintPath\n",
      "\n",
      "  File /Applications/MATLAB_R2020b.app/toolbox/matlab/graphics/printing/private/alternatePrintPath.p, line 0, in alternatePrintPath\n",
      "\n",
      "  File /Applications/MATLAB_R2020b.app/toolbox/matlab/graphics/printing/print.m, line 83, in print\n",
      "\n",
      "  File , line 0, in @(h,i)print(h,sprintf('/var/folders/_x/42sfkp9j3yvf8b8j445p9bmdbmhb5t/T/tmp7qkmb0nm/%06i',i),'-dpng','-r100')\n",
      "Undefined function 'findall' for input arguments of type 'matlab.ui.Figure'.\n",
      "\n",
      "\u001b[0m"
     ]
    }
   ],
   "source": [
    "f = @(t,x) 2*t*x;\n",
    "t = linspace(0,5,300);\n",
    "[t,x] = ode45(f,t,1);\n",
    "clf\n",
    "semilogy(t,x)\n",
    "xlabel('t'), ylabel('x')"
   ]
  },
  {
   "cell_type": "code",
   "execution_count": 6,
   "metadata": {},
   "outputs": [
    {
     "name": "stdout",
     "output_type": "stream",
     "text": [
      "Warning: Failure at t=1.999933e+00.  Unable to meet integration tolerances without reducing the step size below the smallest value allowed (3.552714e-15) at time t.\n",
      "> In ode45 (line 360)\n"
     ]
    },
    {
     "name": "stderr",
     "output_type": "stream",
     "text": [
      "\u001b[0;31mUnrecognized function or variable 'gobjects'.\n",
      "\n",
      "Error in newplot (line 47)\n",
      "fig = gobjects(0);\n",
      "\n",
      "Error in matlab.graphics.internal.newplotwrapper (line 11)\n",
      "axReturn = newplot(varargin{:});\n",
      "\n",
      "\u001b[0m"
     ]
    },
    {
     "name": "stderr",
     "output_type": "stream",
     "text": [
      "\u001b[0;31m\n",
      "  File /Applications/MATLAB_R2020b.app/toolbox/matlab/graphics/printing/+matlab/+graphics/+internal/+export/firePrintBehavior.p, line 0, in firePrintBehavior\n",
      "\n",
      "  File /Applications/MATLAB_R2020b.app/toolbox/matlab/graphics/printing/private/fireprintbehavior.m, line 6, in fireprintbehavior\n",
      "\n",
      "  File /Applications/MATLAB_R2020b.app/toolbox/matlab/graphics/printing/private/printjobContentChanges.p, line 0, in printjobContentChanges\n",
      "\n",
      "  File /Applications/MATLAB_R2020b.app/toolbox/matlab/graphics/printing/private/alternatePrintPath.p, line 0, in alternatePrintPath\n",
      "\n",
      "  File /Applications/MATLAB_R2020b.app/toolbox/matlab/graphics/printing/private/alternatePrintPath.p, line 0, in alternatePrintPath\n",
      "\n",
      "  File /Applications/MATLAB_R2020b.app/toolbox/matlab/graphics/printing/private/alternatePrintPath.p, line 0, in alternatePrintPath\n",
      "\n",
      "  File /Applications/MATLAB_R2020b.app/toolbox/matlab/graphics/printing/private/alternatePrintPath.p, line 0, in alternatePrintPath\n",
      "\n",
      "  File /Applications/MATLAB_R2020b.app/toolbox/matlab/graphics/printing/print.m, line 83, in print\n",
      "\n",
      "  File , line 0, in @(h,i)print(h,sprintf('/var/folders/_x/42sfkp9j3yvf8b8j445p9bmdbmhb5t/T/tmpb141loeu/%06i',i),'-dpng','-r100')\n",
      "Undefined function 'findall' for input arguments of type 'matlab.ui.Figure'.\n",
      "\n",
      "\u001b[0m"
     ]
    }
   ],
   "source": [
    "f = @(t,x) x^2;\n",
    "t = linspace(0,4,300);\n",
    "[t,x] = ode45(f,t,0.5);\n",
    "semilogy(t,x)\n",
    "xlabel('t'), ylabel('x')"
   ]
  }
 ],
 "metadata": {
  "jupytext": {
   "cell_metadata_filter": "-all",
   "formats": "md:myst",
   "text_representation": {
    "extension": ".md",
    "format_name": "myst",
    "format_version": "0.12",
    "jupytext_version": "1.5.1"
   }
  },
  "kernelspec": {
   "display_name": "Matlab",
   "language": "matlab",
   "name": "matlab"
  },
  "language_info": {
   "codemirror_mode": "octave",
   "file_extension": ".m",
   "help_links": [
    {
     "text": "MetaKernel Magics",
     "url": "https://metakernel.readthedocs.io/en/latest/source/README.html"
    }
   ],
   "mimetype": "text/x-octave",
   "name": "matlab",
   "version": "0.16.11"
  },
  "source_map": [
   14,
   54,
   63,
   69,
   73,
   80,
   84,
   87,
   91,
   98,
   102,
   108
  ]
 },
 "nbformat": 4,
 "nbformat_minor": 4
}