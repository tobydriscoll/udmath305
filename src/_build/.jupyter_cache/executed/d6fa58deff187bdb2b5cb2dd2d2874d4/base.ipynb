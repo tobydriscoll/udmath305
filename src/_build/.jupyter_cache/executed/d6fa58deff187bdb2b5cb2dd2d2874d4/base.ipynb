{
 "cells": [
  {
   "cell_type": "code",
   "execution_count": 1,
   "metadata": {
    "tags": [
     "remove-cell"
    ]
   },
   "outputs": [
    {
     "name": "stdout",
     "output_type": "stream",
     "text": [
      "\n",
      "ans =\n",
      "\n",
      "    '9.7.0.1296695 (R2019b) Update 4'\n",
      "\n"
     ]
    }
   ],
   "source": [
    "restoredefaultpath\n",
    "set(0,'defaultlinelinewidth',1)\n",
    "set(0,'defaultaxesfontsize',10)"
   ]
  },
  {
   "cell_type": "code",
   "execution_count": 2,
   "metadata": {
    "tags": [
     "remove-cell"
    ]
   },
   "outputs": [],
   "source": [
    "%plot -s 800,400 -r 160 -f png"
   ]
  },
  {
   "cell_type": "code",
   "execution_count": 3,
   "metadata": {
    "tags": [
     "hide-input"
    ]
   },
   "outputs": [
    {
     "name": "stderr",
     "output_type": "stream",
     "text": [
      "\u001b[0;31mError: Invalid use of operator.\n",
      "\n",
      "\u001b[0m"
     ]
    }
   ],
   "source": [
    "A = [-4 -1; -2 -5];\n",
    "[V,D] = eig(A);\n",
    "lam = diag(D);\n",
    "\n",
    "clf\n",
    "plot(0,0,'r.','markersize',18)\n",
    "hold on\n",
    "\n",
    "% plot directions\n",
    "[x1,x2] = meshgrid(-1:.2:1);\n",
    "v = A*[x1(:)';x2(:)'];\n",
    "sz = size(x1);\n",
    "quiver(x1,x2,reshape(v(1,:),sz),reshape(v(2,:),sz))\n",
    "\n",
    "% plot eigenvectors\n",
    "plot(5*[-V(1,:);V(1,:)],5*[-V(2,:);V(2,:)],'k','linew',2)\n",
    "\n",
    "% plot trajectories\n",
    "colr = get(gca,'colororder');\n",
    "t = linspace(0,10,300);\n",
    "for theta = 2*pi*(0:23)/24\n",
    "\tfor j = 1:length(t)\n",
    "\t\tX = expm(t(j)*A);\n",
    "\t\tx(:,j) = X*[ cos(theta); sin(theta) ];\n",
    "\tend\n",
    "\tplot(x(1,:),x(2,:),'linew',1.5,'color',colr(1,:))\n",
    "end\n",
    "\n",
    "axis([-1.1 1.1 -1.1 1.1]), axis square\n",
    "title('stable node')\n",
    "xlabel('x_1')\n",
    "ylabel('x_2')\t\t\n",
    ":::\n",
    "\n",
    "The black lines show the directions of the eigenvectors. An initial state on one of those lines stays on it forever. Other initial conditions follow a path tending to become parallel to eigenvector $\\mathbf{v}_1$, since the other component decays out more quickly. The plot for $-\\mathbf{A}$ would just reverse all of the arrows and show an unstable steady state. \n",
    "\n",
    "### Saddle\n",
    "\n",
    "When the eigenvalues are real and of different signs, the steady state is called a \n",
    "{term}`saddle`. A saddle point is always unstable. The part of the solution along the negative eigenvector decays away, but the contribution from the positive eigenvector grows with time. \n",
    "\n",
    "Here is a phase plane plot for $\\mathbf{A}=\\twomat{-2}{-3}{-6}{-5}$, which has eigenvalues $1$ and $-8$. \n",
    "\n",
    "```{code-cell}\n",
    "---\n",
    "tags: [hide-input]\n",
    "---\n",
    "A = [-2 -3; -6 -5];\n",
    "[V,D] = eig(A);\n",
    "lam = diag(D);\n",
    "\n",
    "clf\n",
    "plot(0,0,'r.','markersize',18)\n",
    "hold on\n",
    "\n",
    "% plot directions\n",
    "[x1,x2] = meshgrid(-1:.2:1);\n",
    "v = A*[x1(:)';x2(:)'];\n",
    "sz = size(x1);\n",
    "quiver(x1,x2,reshape(v(1,:),sz),reshape(v(2,:),sz))\n",
    "\n",
    "% plot eigenvectors\n",
    "plot(5*[-V(1,:);V(1,:)],5*[-V(2,:);V(2,:)],'k','linew',2)\n",
    "\n",
    "% plot trajectories\n",
    "colr = get(gca,'colororder');\n",
    "t = linspace(0,10,300);\n",
    "for theta = 2*pi*(0:23)/24\n",
    "\tfor j = 1:length(t)\n",
    "\t\tX = expm(t(j)*A);\n",
    "\t\tx(:,j) = X*[ cos(theta); sin(theta) ];\n",
    "\tend\n",
    "\tplot(x(1,:),x(2,:),'linew',1.5,'color',colr(1,:))\n",
    "end\n",
    "\n",
    "axis([-1.1 1.1 -1.1 1.1]), axis square\n",
    "title('saddle')\n",
    "xlabel('x_1')\n",
    "ylabel('x_2')\n",
    ":::\n",
    "\n",
    "An initial condition exactly on the stable black line (eigenvector) will approach the origin, but anything else ends up shooting away more or less in the direction of the unstable eigenvector.  \n",
    "\n",
    "### Spiral\n",
    "\n",
    "When the eigenvalues are complex conjugates with nonzero real part, the steady state is called a {term}`spiral`. If the eigenvalues are $a \\pm i b$, then all solutions contain $e^{at}e^{\\pm i b t}$, or equivalently, $e^{at}\\cos{b t}$ and $e^{at}\\sin{b t}$. The real part causes growth and instability if $a> 0$, or decay and stability if $a < 0$. The imaginary part determines the angular speed of the spiral. \n",
    "\n",
    "Here is a phase plane plot for $\\mathbf{A}=\\twomat{1}{-2}{4}{-3}$, which has eigenvalues $-1\\pm 2i$. \n",
    "\n",
    "```{code-cell}\n",
    "---\n",
    "tags: [hide-input]\n",
    "---\n",
    "A = [1 -2; 4 -3];\n",
    "[V,D] = eig(A);\n",
    "lam = diag(D);\n",
    "\n",
    "clf\n",
    "plot(0,0,'r.','markersize',18)\n",
    "hold on\n",
    "\n",
    "% plot directions\n",
    "[x1,x2] = meshgrid(-1:.2:1);\n",
    "v = A*[x1(:)';x2(:)'];\n",
    "sz = size(x1);\n",
    "quiver(x1,x2,reshape(v(1,:),sz),reshape(v(2,:),sz))\n",
    "\n",
    "% plot trajectories\n",
    "colr = get(gca,'colororder');\n",
    "t = linspace(0,7,300);\n",
    "for theta = 2*pi*(0:6)/7\n",
    "\tfor j = 1:length(t)\n",
    "\t\tX = expm(t(j)*A);\n",
    "\t\tc = exp(lam(1)*t(j)-1i*theta);\n",
    "\t\tx(:,j) = X*[ cos(theta); sin(theta) ];\n",
    "\tend\n",
    "\tplot(x(1,:),x(2,:),'linew',1.5,'color',colr(1,:))\n",
    "end\n",
    "\n",
    "axis([-1.2 1.2 -1.2 1.2]), axis square\n",
    "title('stable spiral')\n",
    "xlabel('x_1')\n",
    "ylabel('x_2')\n",
    ":::\t\t\t\t\t\n",
    "\n",
    "The eigenvectors are complex and don't show up on the plot; there are no purely linear trajectories as in the other cases.\n",
    "\n",
    "### Center\n",
    "\n",
    "The special case of imaginary eigenvalues, $\\lambda=\\pm i b$, is called a {term}`center`. You can think of the trajectories as spirals that are perfectly neutral — that is, circles or ellipses. These equilibria are often associated with conservation principles, such as conservation of energy. \n"
   ]
  }
 ],
 "metadata": {
  "jupytext": {
   "cell_metadata_filter": "-all",
   "formats": "md:myst",
   "text_representation": {
    "extension": ".md",
    "format_name": "myst",
    "format_version": "0.12",
    "jupytext_version": "1.5.1"
   }
  },
  "kernelspec": {
   "display_name": "Matlab",
   "language": "matlab",
   "name": "matlab"
  },
  "language_info": {
   "codemirror_mode": "octave",
   "file_extension": ".m",
   "help_links": [
    {
     "text": "MetaKernel Magics",
     "url": "https://metakernel.readthedocs.io/en/latest/source/README.html"
    }
   ],
   "mimetype": "text/x-octave",
   "name": "matlab",
   "version": "0.16.11"
  },
  "source_map": [
   14,
   17,
   26,
   31,
   79
  ]
 },
 "nbformat": 4,
 "nbformat_minor": 4
}