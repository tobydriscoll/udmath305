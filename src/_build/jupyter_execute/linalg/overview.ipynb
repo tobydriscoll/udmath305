{
 "cells": [
  {
   "cell_type": "markdown",
   "metadata": {},
   "source": [
    "# Linear algebra\n",
    "\n",
    "Linear algebra provides a convenient and general way to pose and analyze problems in multiple dimensions. The most tractable and universal such problems involve linear transformations. \n",
    "\n",
    "(definition-linear)=\n",
    "\n",
    "````{proof:definition} Linear function\n",
    "A function $L$ on domain $D$ is {term}`linear` if it satisfies both of these rules:\n",
    "```{math}\n",
    "L(cx) = c \\cdot L(x) \\quad \\text{for all numbers $c$ and $x\\in D$,}\n",
    "```\n",
    "and\n",
    "```{math}\n",
    "L(x+y) = L(x) + L(y) \\quad \\text{for all $x\\in D$, $y\\in D$}.\n",
    "```\n",
    "````\n",
    "\n",
    "I've been deliberately vague about the domain and range of $L$ in this definition, because it can be adapted to multiple contexts. For now, suffice it to say that they are sets of vectors.\n",
    "\n",
    "````{proof:definition} Vector\n",
    "A {term}`vector` is a finite collection of numbers called its elements. The set of all vectors with $n$ real-valued elements is denoted $\\real^n$. If the elements are complex numbers, we use the name $\\complex^n$. \n",
    "````\n",
    "\n",
    "```{warning}\n",
    "Complex numbers are coming. They play an essential role in understanding dynamics.\n",
    "```\n",
    "\n",
    "I use boldfaced lowercase letters to represent vectors, and a subscript to refer to an individual element within one. For instance, $x_3$ is the third element of a vector $\\bfx$.\n",
    "\n",
    "There is one more big definition to get out of the way before we really dive in.\n",
    "\n",
    "````{proof:definition} Matrix\n",
    "A {term}`matrix` is an $m\\times n$ array of numbers called its elements. The set of all $m\\times n$ matrices with real elements is denoted $\\rmn{m}{n}$, and with complex elements it's $\\cmn{m}{n}$. \n",
    "````\n",
    "\n",
    "I use boldfaced uppercase letters to represent vectors, and a pair of subscripts to refer to an individual element within one. For instance, $A_{23}$ is the element in row 2, column 3 of the matrix $\\bfA$.\n",
    "\n",
    "```{tip}\n",
    ":class: dropdown\n",
    "Matrix subscripts are always in the order row first, column second. (This is the opposite of Excel, which is just one of myriad reasons that Excel is evil.)\n",
    "```\n",
    "\n",
    "As you might suspect, there's a lot more to vectors and matrices than these innocent definitions let on. The consequences of making algebraic rules that bind vectors and matrices to describe linear functions will comprise our brief tour of linear algebra.\n",
    "\n",
    "## MATLAB\n",
    "\n",
    "MATLAB stands for \"matrix laboratory,\" and it's a natural place to compute with vectors and matrices. One caution, though: it operates with numbers of finite precision, like a calculator, rather than with exact expressions like Mathematica. Hence things that are supposed to be equal might only be approximately so.\n",
    "\n",
    "To construct small vectors and matrices, put elements inside square brackets. Spaces separate columns, and semicolons separate rows."
   ]
  },
  {
   "cell_type": "code",
   "execution_count": 1,
   "metadata": {},
   "outputs": [
    {
     "name": "stdout",
     "output_type": "stream",
     "text": [
      "x =\n",
      "     1     2     3     4\n"
     ]
    },
    {
     "name": "stdout",
     "output_type": "stream",
     "text": [
      "y =\n",
      "    10\n",
      "    20\n",
      "    30\n"
     ]
    },
    {
     "name": "stdout",
     "output_type": "stream",
     "text": [
      "A =\n",
      "    1.0000    2.0000    3.0000\n",
      "   -4.0000   -5.0000   -6.0000\n",
      "    3.1416    1.4142    2.7183\n"
     ]
    }
   ],
   "source": [
    "x = [ 1 2 3 4 ]\n",
    "y = [10; 20; 30]\n",
    "A = [ 1 2 3; -4 -5 -6; pi sqrt(2) exp(1) ]"
   ]
  },
  {
   "cell_type": "markdown",
   "metadata": {},
   "source": [
    "```{sidebar} Mathematical constants\n",
    ":class: dropdown\n",
    "The constant $\\pi$ is defined automatically as `pi`. The constant `e` is not defined, and expressions like $e^{-2}$ causes an error if you have not previously defined `e`. Instead, use the exponential function `exp`; note that $e=\\exp(1)$.\n",
    "```\n",
    "\n",
    "As you can see from this output, MATLAB allows two kinds of vector: a row vector, which has a single row, and a column vector, which has a single column. The distinction doesn't always matter, but when it does, it really does. We are going to make a blanket assumption that serves well most of the time.\n",
    "\n",
    "```{tip}\n",
    "All vectors are assumed to have a column shape.\n",
    "```\n",
    "\n",
    "We can get the dimensions of a vector using `size`."
   ]
  },
  {
   "cell_type": "code",
   "execution_count": 2,
   "metadata": {},
   "outputs": [
    {
     "name": "stdout",
     "output_type": "stream",
     "text": [
      "sizes =\n",
      "     1     4\n",
      "     3     1\n",
      "     3     3\n"
     ]
    }
   ],
   "source": [
    "sizes = [ size(x); size(y); size(A) ]"
   ]
  },
  {
   "cell_type": "markdown",
   "metadata": {},
   "source": [
    "You can see from the above that we can concatenate vectors and matrices inside square brackets. Also:\n",
    "\n",
    "```{tip}\n",
    "MATLAB makes no distinction between a column vector in $\\real^n$ and an $n\\times 1$ matrix in $\\rmn{n}{1}$.\n",
    "```\n",
    "\n",
    "To access individual elements in a vector or matrix, use parentheses. The `end` keyword always stands for the last element in its dimension."
   ]
  },
  {
   "cell_type": "code",
   "execution_count": 3,
   "metadata": {},
   "outputs": [
    {
     "name": "stdout",
     "output_type": "stream",
     "text": [
      "x_2 =\n",
      "     2\n"
     ]
    },
    {
     "name": "stdout",
     "output_type": "stream",
     "text": [
      "A_31 =\n",
      "    3.1416\n",
      "y_last =\n",
      "    30\n"
     ]
    }
   ],
   "source": [
    "x_2 = x(2)\n",
    "A_31 = A(3,1)\n",
    "y_last = y(end)"
   ]
  },
  {
   "cell_type": "markdown",
   "metadata": {},
   "source": [
    "The parenthetical syntax also works for assigning values within a vector or matrix."
   ]
  },
  {
   "cell_type": "code",
   "execution_count": 4,
   "metadata": {},
   "outputs": [
    {
     "name": "stdout",
     "output_type": "stream",
     "text": [
      "A =\n",
      "   1.0000 + 0.0000i   2.0000 + 0.0000i   3.0000 + 0.0000i\n",
      "   0.0000 + 1.0000i  -5.0000 + 0.0000i  -6.0000 + 0.0000i\n",
      "   3.1416 + 0.0000i   1.4142 + 0.0000i   2.7183 + 0.0000i\n"
     ]
    }
   ],
   "source": [
    "A(2,1) = 1i     % the imaginary unit"
   ]
  },
  {
   "cell_type": "markdown",
   "metadata": {},
   "source": [
    "Note how complex numbers are automatically supported."
   ]
  }
 ],
 "metadata": {
  "jupytext": {
   "cell_metadata_filter": "-all",
   "formats": "md:myst",
   "text_representation": {
    "extension": ".md",
    "format_name": "myst",
    "format_version": "0.12",
    "jupytext_version": "1.5.0"
   }
  },
  "kernelspec": {
   "display_name": "Matlab",
   "language": "matlab",
   "name": "matlab"
  },
  "language_info": {
   "codemirror_mode": "octave",
   "file_extension": ".m",
   "help_links": [
    {
     "text": "MetaKernel Magics",
     "url": "https://metakernel.readthedocs.io/en/latest/source/README.html"
    }
   ],
   "mimetype": "text/x-octave",
   "name": "matlab",
   "version": "0.16.11"
  },
  "source_map": [
   14,
   66,
   70,
   85,
   87,
   97,
   101,
   105,
   107
  ]
 },
 "nbformat": 4,
 "nbformat_minor": 4
}