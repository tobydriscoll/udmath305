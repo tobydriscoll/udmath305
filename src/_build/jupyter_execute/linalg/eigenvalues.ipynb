{
 "cells": [
  {
   "cell_type": "markdown",
   "metadata": {},
   "source": [
    "# Eigenvalues\n",
    "\n",
    "The last stop on our whirlwind tour of linear algebra is the hardest to motivate for a little while. However, the topic is important to the differential equations we study in future chapters, in the sense of oxygen being an important part of breathing.\n",
    "\n",
    "We are still operating with square matrices only.\n",
    "\n",
    "(definition-linalg-eigen)=\n",
    "\n",
    "````{proof:definition} Eigenvalue and eigenvector\n",
    "\n",
    "Suppose $\\bfA\\in\\cmn{n}{n}$. If there exist a scalar $\\lambda$ and a nonzero vector $\\bfv$ such that\n",
    "\n",
    "```{math}\n",
    "\\bfA \\bfv = \\lambda \\bfv,\n",
    "```\n",
    "\n",
    "then $\\lambda$ is an {term}`eigenvalue` of $\\bfA$ with associated {term}`eigenvector` $\\bfv$.\n",
    "````\n",
    "\n",
    "If you think of $\\bfA$ as acting on vectors, then an eigenvector is a direction in which the action of $\\bfA$ is the same as a scalar; we have found a little one-dimensional oasis in which the behavior of $\\bfA$ is easy to comprehend.\n",
    "\n",
    "## Eigenspaces\n",
    "\n",
    "An eigenvalue is a clean, well-defined target. Eigenvectors are a little slipperier. For starters, if $\\bfA\\bfv=\\lambda\\bfv$, then\n",
    "\n",
    "```{math}\n",
    "\\bfA(c\\bfv) = c(\\bfA\\bfv)=c(\\lambda\\bfv)=\\lambda(c\\bfv).\n",
    "```\n",
    "\n",
    "Hence **every nonzero multiple of an eigenvector is also an eigenvector for the same $\\lambda$**. But there can be much more ambiguity than that.\n",
    "\n",
    "::::{admonition,dropdown,tip} Example\n",
    "\n",
    "Let $\\meye$ be an identity matrix. Then $\\meye\\bfx=\\bfx$ for any vector $\\bfx$, so every nonzero vector is an eigenvector!\n",
    "::::\n",
    "\n",
    "Fortunately we already have the tools we need to describe a more robust target, based on the very simple reformulation\n",
    "\n",
    "```{math}\n",
    "\\bfzero=\\bfA\\bfv-\\lambda\\bfv=(\\bfA-\\lambda\\meye)\\bfv.\n",
    "```\n",
    "\n",
    "(definition-linalg-eigenspace)=\n",
    "\n",
    "````{proof:definition} Eigenspace\n",
    "Let $\\lambda$ be an eigenvalue of $\\bfA$. The {term}`eigenspace` associated with $\\lambda$ is the general solution of $(\\bfA-\\lambda\\meye)\\bfx = \\bfzero$.\n",
    "````\n",
    "\n",
    "Eigenspaces, unlike eigenvectors, are unique. We have to be a bit careful, though, because we usually express such spaces using basis vectors, and those bases are not themselves unique. \n",
    "\n",
    "Note that if $\\lambda$ is *not* an eigenvalue, then by definition the only solution of $(\\bfA-\\lambda\\meye)\\bfv=\\bfzero$ is $\\bfv=\\bfzero$. That requires $\\bfA-\\lambda\\meye$ to be invertible.\n",
    "\n",
    "````{proof:theorem}\n",
    "$\\lambda$ is an eigenvalue of $\\bfA$ if and only if $\\bfA-\\lambda\\meye$ is singular.\n",
    "````\n",
    "\n",
    "In practice the most common way to find eigenvalues by hand is through the equivalent condition $\\det(\\bfA-\\lambda\\meye)=0$.\n",
    "\n",
    "::::{admonition,dropdown,tip} Example\n",
    "We look for eigenvalues of\n",
    "\n",
    "```{math}\n",
    "\\bfA = \\begin{bmatrix} 1 & 1 \\\\ 4 & 1 \\end{bmatrix}.\n",
    "```\n",
    "\n",
    "Start by computing\n",
    "\n",
    "```{math}\n",
    "\\left| \\twomat{1}{1}{4}{1} - \\twomat{\\lambda}{0}{0}{\\lambda} \\right| = \\twodet{1-\\lambda}{1}{4}{1-\\lambda} = (1-\\lambda)^2 - 4 = \\lambda^2-2\\lambda-3.\n",
    "```\n",
    "\n",
    "We find eigenvalues by setting this equal to zero, which means $\\lambda_1=3$ or $\\lambda_2=-1$. So these are the eigenvalues.\n",
    "\n",
    "What about the eigenspaces? First consider $\\lambda_1=3$:\n",
    "\n",
    "```{math}\n",
    "\\bfA-3 \\meye = \\twomat{-2}{1}{4}{-2} \\overset{\\text{RREF}}{\\Longrightarrow} \\twomat{1}{-1/2}{0}{0}.\n",
    "```\n",
    "\n",
    "The homogeneous solution can be expressed as $x_1=s/2$, $x_2=s$, or $s\\cdot[1/2;\\,1]$. So $[1/2;\\,1]$ is a basis for this eigenspace. Since eigenvectors can be rescaled at will, we prefer to use $\\twovec{1}{2}$ as the basis vector.\n",
    "\n",
    "\n",
    "For $\\lambda_2=-1$,\n",
    "\n",
    "```{math}\n",
    "\\bfA+ \\meye = \\twomat{2}{1}{4}{2} \\overset{\\text{RREF}}{\\Longrightarrow} \\twomat{1}{1/2}{0}{0},\n",
    "```\n",
    "\n",
    "leading to the basis $[-1/2;\\,1]$ or equivalently, $\\twovec{-1}{2}$.\n",
    "::::\n",
    "\n",
    "## MATLAB\n",
    "\n",
    "MATLAB computes eigenvalues (through an entirely different process) with the `eig` command. From the preceding example, for instance,"
   ]
  },
  {
   "cell_type": "code",
   "execution_count": 1,
   "metadata": {},
   "outputs": [
    {
     "name": "stdout",
     "output_type": "stream",
     "text": [
      "\n",
      "lambda =\n",
      "\n",
      "    3.0000\n",
      "   -1.0000\n",
      "\n"
     ]
    }
   ],
   "source": [
    "A = [ 1 1; 4 1 ];\n",
    "lambda = eig(A)"
   ]
  },
  {
   "cell_type": "markdown",
   "metadata": {},
   "source": [
    "If you want eigenvectors as well, use an alternate form for the output:"
   ]
  },
  {
   "cell_type": "code",
   "execution_count": 2,
   "metadata": {},
   "outputs": [
    {
     "name": "stdout",
     "output_type": "stream",
     "text": [
      "\n",
      "V =\n",
      "\n",
      "    0.4472   -0.4472\n",
      "    0.8944    0.8944\n",
      "\n"
     ]
    },
    {
     "name": "stdout",
     "output_type": "stream",
     "text": [
      "\n",
      "D =\n",
      "\n",
      "    3.0000         0\n",
      "         0   -1.0000\n",
      "\n"
     ]
    }
   ],
   "source": [
    "[V,D] = eig(A)"
   ]
  },
  {
   "cell_type": "markdown",
   "metadata": {},
   "source": [
    "In most cases, column `V(:,k)` is an eigenvector for the eigenvalue `D(k,k)`. Keep in mind that any scalar multiple of an eigenvector is equally valid.\n",
    "\n",
    "## Eigenvectors for $2\\times 2$\n",
    "\n",
    "Most of our hand computations will be with $2\\times 2$ matrices. Suppose $\\lambda$ is known to be an eigenvalue of $\\bfA$. Then $\\bfA-\\lambda\\meye$ must be singular, and its RREF has at least one free column. Hence row elimination will zero out the second row entirely, and we can ignore it.\n",
    "\n",
    "Say the first row of $\\bfA-\\lambda\\meye$ is $[\\alpha,\\beta]$. If these are both zero, then $\\bfA-\\lambda\\meye$ is a zero matrix, i.e., $\\bfA$ is a multiple of the identity and all of $\\complex^2$ is the eigenspace. Otherwise, the vector $[\\beta;\\,-\\alpha]$ is in the general homogeneous solution, and we can choose it as the basis of the eigenspace.\n",
    "\n",
    "::::{admonition,dropdown,tip} Example\n",
    "Let's find the eigenstuff of \n",
    "\n",
    "```{math}\n",
    "\\bfA = \\twomat{1}{1}{-1}{1}.\n",
    "```\n",
    "\n",
    "We start by finding eigenvalues. \n",
    "\n",
    "$$\n",
    "\\det(\\bfA - \\lambda \\meye) = \\twodet{1-\\lambda}{1}{-1}{1-\\lambda} = (1-\\lambda)^2 + 1.\n",
    "$$\n",
    "\n",
    "The eigenvalues are therefore roots of $\\lambda^2 - 2\\lambda + 2$, or \n",
    "\n",
    "$$\n",
    "\\lambda = 1 \\pm \\sqrt{1-2} = 1 \\pm i.\n",
    "$$\n",
    "\n",
    "This is our first case of a real matrix that has complex eigenvalues. We just continue as always, only using complex arithmetic.\n",
    "\n",
    "The eigenspace for $\\lambda_1=1+i$ is the homogeneous solution of \n",
    "\n",
    "$$\n",
    "\\bfA - (1+i) \\meye = \\twomat{-i}{1}{-1}{-i}.\n",
    "$$\n",
    "\n",
    "To find a basis we just use the first row as explained above, getting $\\twovec{1}{i}$. \n",
    "\n",
    "Now we get a nice reward for using complex numbers. Since the matrix is real, the other eigenvalue is the conjugate of $\\lambda_1$, and it turns out that the same is true of the eigenspace as well. So $\\twovec{1}{-i}$ is a basis for the second eigenspace.\n",
    "::::\n",
    "\n",
    "(example-linalg-defective)=\n",
    "\n",
    "::::{admonition,dropdown,tip} Example\n",
    "Consider $\\bfA=\\twomat{4}{1}{0}{4}$. The characteristic polynomial is\n",
    "\n",
    "```{math}\n",
    "\\twodet{4-\\lambda}{1}{0}{4-\\lambda} = (4-\\lambda)^2,\n",
    "```\n",
    "\n",
    "so $\\lambda_1=4$ is the only eigenvalue. Since\n",
    "\n",
    "```{math}\n",
    "\\bfA - 4\\meye = \\twomat{0}{1}{0}{0},\n",
    "```\n",
    "\n",
    "the eigenspace has basis $\\twovec{1}{0}$.\n",
    "::::\n",
    "\n",
    "<!-- ::::{admonition,dropdown,tip} Example\n",
    "\t\t\t\n",
    "\t\t\t\tWe find the eigenvalues and eigenvectors of\n",
    "\t\t\t\t```{math}\n",
    "\t\t\t\t\t\\begin{bmatrix} 1 & -1 \\\\ 5 & -3 \\end{bmatrix}\n",
    "\t\t\t\t```.\n",
    "\t\t\t\tThe characteristic polynomial is $\\lambda^2 +2 \\lambda +2$, with roots  $\\lambda_{1,2} = -1 \\pm 1i.$\n",
    "\t\t\t\n",
    "\t\t\t\n",
    "\t\t\t\tTo find an eigenvector for $\\lambda_1$, we note that the first row of $ \\bfA - \\lambda_1 \\mathbf{I} $ is $[(2-i),-1]$. Thus a basis for this eigenspace is the single eigenvector $\\twovec{1}{2-i}$.\n",
    "\t\t\t\n",
    "\t\t\t\n",
    "\t\t\t\tWe get a benefit here from the complex eigenvalues: the conjugate of an eigenvector for $\\lambda_1$ will be an eigenvector for $\\lambda_2$. So we have $\\spanset\\left(\\twovec{1}{2+i}\\right)$ to go with $\\lambda_2$.\n",
    "\t\t\t\n",
    "\t\t::::\n",
    "\t -->"
   ]
  }
 ],
 "metadata": {
  "jupytext": {
   "cell_metadata_filter": "-all",
   "formats": "md:myst",
   "text_representation": {
    "extension": ".md",
    "format_name": "myst",
    "format_version": "0.12",
    "jupytext_version": "1.5.0"
   }
  },
  "kernelspec": {
   "display_name": "Matlab",
   "language": "matlab",
   "name": "matlab"
  },
  "language_info": {
   "codemirror_mode": "octave",
   "file_extension": ".m",
   "help_links": [
    {
     "text": "MetaKernel Magics",
     "url": "https://metakernel.readthedocs.io/en/latest/source/README.html"
    }
   ],
   "mimetype": "text/x-octave",
   "name": "matlab",
   "version": "0.16.11"
  },
  "source_map": [
   14,
   111,
   114,
   118,
   120
  ]
 },
 "nbformat": 4,
 "nbformat_minor": 4
}