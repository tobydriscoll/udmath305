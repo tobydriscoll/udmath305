{
 "cells": [
  {
   "cell_type": "markdown",
   "metadata": {},
   "source": [
    "# Multiplicity\n",
    "\n",
    "The eigenvalues of a matrix are the roots of its characteristic polynomial. Given what we know about polynomials, there are some conclusions it's worth stating clearly.\n",
    "\n",
    "````{proof:property} Eigenvalue properties\n",
    "Suppose $\\bfA$ is an $n\\times n$ matrix. Then\n",
    "\n",
    "1. $\\bfA$ has at least one and at most $n$ distinct complex eigenvalues, and\n",
    "2. If $\\bfA$ is real, then any complex eigenvalues occur in conjugate pairs, as do their associated eigenvectors.\n",
    "````\n",
    "\n",
    "In general, we can factor a characteristic polynomial $p$ to get\n",
    "\n",
    "```{math}\n",
    "p(\\lambda) = (z-\\lambda_1)^{m_1}(z-\\lambda_2)^{m_2}\\cdots(z-\\lambda_k)^{m_k},\n",
    "```\n",
    "\n",
    "for positive integer exponents such that $m_1+\\cdots+m_k=n$. These exponents are the multiplicities of the roots, and that idea carries to the eigenvalues as well.\n",
    "\n",
    "(definition-linalg-algmult)=\n",
    "````{proof:definition} Algebraic multiplicity\n",
    "The {term}`algebraic multiplicity` of an eigenvalue is its multiplicity as a root of the characteristic polynomial.\n",
    "````\n",
    "\n",
    "## Geometric multiplicity\n",
    "\n",
    "The following example illustrates a possibility unique to eigenvalues of algebraic multiplicity greater than 1.\n",
    "\n",
    "(example-linalg-defective)=\n",
    "::::{admonition,dropdown,tip} Example\n",
    "The characteristic polynomial of $\\bfA=\\twomat{4}{1}{0}{4}$ is\n",
    "\n",
    "```{math}\n",
    "\\twodet{4-\\lambda}{1}{0}{4-\\lambda} = (4-\\lambda)^2,\n",
    "```\n",
    "\n",
    "so the double root $\\lambda_1=4$ is the only eigenvalue. Since\n",
    "\n",
    "```{math}\n",
    "\\bfA - 4\\meye = \\twomat{0}{1}{0}{0},\n",
    "```\n",
    "\n",
    "the eigenspace has basis $\\twovec{1}{0}$.\n",
    "::::\n",
    "\n",
    "This leads us to define a second notion of multiplicity for an eigenvalue. \n",
    "\n",
    "(definition-linalg-geomult)=\n",
    "````{proof:definition} Geometric multiplicity\n",
    "The {term}`geometric multiplicity` of an eigenvalue is the number of basis vectors in its associated eigenspace.\n",
    "````\n",
    "\n",
    "Here is an important fact we won't try to prove.\n",
    "\n",
    "````{proof:property}\n",
    "The geometric multiplicity of an eigenvalue is at least one and less than or equal to its algebraic multiplicity.\n",
    "````\n",
    "\n",
    "## Defectiveness\n",
    "\n",
    "In the [above example](example-linalg-defective) we found a lone eigenvalue $\\lambda_1=4$ of algebraic multiplicity 2 whose geometric multiplicity, we now see, is 1. The identity matrix is a different sort of example.\n",
    "\n",
    "::::{admonition,tip} Example\n",
    "The $2\\times 2$ identity matrix $\\meye$ has a lone eigenvalue $\\lambda_1=1$ of algebraic multiplicity 2. The system $(\\meye - \\meye)\\bfv=\\bfzero$ has an RREF that is the zero matrix, so there are two free variables and two basis vectors. Hence the geometric multiplicity of $\\lambda_1$ is also 2.\n",
    "::::\n",
    "\n",
    "The distinction between these cases is significant enough to warrant yet another definition and name.\n",
    "\n",
    "````{proof:definition} Defectiveness\n",
    "An eigenvalue $\\lambda$ whose geometric multiplicity is strictly less than its algebraic multiplicity is said to be {term}`defective`. A matrix is called defective if any of its eigenvalues are defective.\n",
    "````\n",
    "\n",
    "As we will see later on, defective matrices often complicate the application of eigenvalue analysis. They are rare in the sense that a random matrix has zero probability of being defective, but they do play a role. Since multiplicities are always at least one, there is a simple and common case in which we are certain that a matrix is not defective.\n",
    "\n",
    "````{proof:theorem} Distinct eigenvalues\n",
    "If $\\bfA\\in\\cmn{n}{n}$ has $n$ distinct eigenvalues, then $\\bfA$ is not defective.\n",
    "````\n",
    "\n",
    "For $n=2$, the possibilities in the case of algebraic multiplicity equal to 2 are easy to pin down. \n",
    "\n",
    "````{proof:theorem} $2\\times 2$ defectivenss\n",
    "Any $\\bfA\\in\\cmn{2}{2}$ that has a single repeated eigenvalue is either defective or a multiple of the identity matrix. \n",
    "````"
   ]
  }
 ],
 "metadata": {
  "jupytext": {
   "cell_metadata_filter": "-all",
   "formats": "md:myst",
   "text_representation": {
    "extension": ".md",
    "format_name": "myst",
    "format_version": "0.12",
    "jupytext_version": "1.5.0"
   }
  },
  "kernelspec": {
   "display_name": "Matlab",
   "language": "matlab",
   "name": "matlab"
  },
  "language_info": {
   "codemirror_mode": "octave",
   "file_extension": ".m",
   "help_links": [
    {
     "text": "MetaKernel Magics",
     "url": "https://metakernel.readthedocs.io/en/latest/source/README.html"
    }
   ],
   "mimetype": "text/x-octave",
   "name": "matlab",
   "version": "0.16.11"
  },
  "source_map": [
   14
  ]
 },
 "nbformat": 4,
 "nbformat_minor": 4
}