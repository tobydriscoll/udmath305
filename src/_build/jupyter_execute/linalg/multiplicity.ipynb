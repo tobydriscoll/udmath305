{
 "cells": [
  {
   "cell_type": "markdown",
   "metadata": {},
   "source": [
    "# Defectiveness\n",
    "\n",
    "Although we will mostly work with $2\\times 2$ matrices, eigenvalues are so important that it's worth getting to know more about the general case.\n",
    "\n",
    "## Characteristic polynomial\n",
    "\n",
    "In the $n\\times n$ case, cofactor expansion of $\\det(\\bfA-\\lambda\\meye)$ leads to the following definition.\n",
    "\n",
    "(definition-linalg-characteristic-polynomial)=\n",
    "\n",
    "````{proof:definition} Characteristic polynomial\n",
    "Suppose $\\bfA$ is $n\\times n$. The {term}`characteristic polynomial` of $\\bfA$ is $\\det(\\bfA-\\lambda\\bI)$. It is of degree $n$ in $\\lambda$, with a leading coefficient of $(-1)^n$.\n",
    "````\n",
    "\n",
    "The roots of the characteristic polynomial are the eigenvalues of the matrix. Given what we know about roots of polynomials, there are some conclusions it's worth stating clearly.\n",
    "\n",
    "````{proof:property} Eigenvalue properties\n",
    "Suppose $\\bfA$ is an $n\\times n$ matrix. Then\n",
    "\n",
    "1. $\\bfA$ has at least one and at most $n$ distinct complex eigenvalues, and\n",
    "2. If $\\bfA$ is real, then any complex eigenvalues occur in conjugate pairs, as do their associated eigenvectors.\n",
    "````\n",
    "\n",
    "## Defective eigenvalues\n",
    "\n",
    "We can factor a characteristic polynomial $p$ to get\n",
    "\n",
    "```{math}\n",
    "p(\\lambda) = (z-\\lambda_1)^{m_1}(z-\\lambda_2)^{m_2}\\dots(z-\\lambda_k)^{m_k}\n",
    "```\n",
    "\n",
    "for nonnegative integer exponents such that $m_1+\\cdots+m_k=n$. These exponents are the multiplicities of the roots, and that idea carries to the eigenvalues as well.\n",
    "\n",
    "(definition-linalg-algmult)=\n",
    "\n",
    "````{proof:definition} Algebraic multiplicity\n",
    "The {term}`algebraic multiplicity` of an eigenvalue is its multiplicity as a root of the characteristic polynomial.\n",
    "````\n",
    "\n",
    "But eigenvalues have another significant notion of multiplicity as well.\n",
    "\n",
    "(definition-linalg-geomult)=\n",
    "\n",
    "````{proof:definition} Geometric multiplicity\n",
    "The {term}`geometric multiplicity` of an eigenvalue is the number of basis vectors in its associated eigenspace.\n",
    "````\n",
    "\n",
    "Here is a fact we won't try to prove.\n",
    "\n",
    "````{proof:property}\n",
    "The geometric multiplicity of an eigenvalue is at least one and less than or equal to its algebraic multiplicity.\n",
    "````\n",
    "\n",
    "This fact spurs another definition.\n",
    "\n",
    "```{index} defective eigenvalue\n",
    "```\n",
    "\n",
    "````{proof:definition} Defectiveness\n",
    "An eigenvalue $\\lambda$ whose geometric multiplicity is strictly less than its algebraic multiplicity is said to be {term}`defective`. A matrix is called defective if any of its eigenvalues are defective.\n",
    "````\n",
    "\n",
    "Since multiplicities are always at least one, there is a simple and common case in which we are certain that there are no defective eigenvalues.\n",
    "\n",
    "````{proof:theorem} Distinct eigenvalues imply nondefectiveness\n",
    "If $\\bfA\\in\\cmn{n}{n}$ has $n$ distinct eigenvalues, then $\\bfA$ is not defective.\n",
    "````\n",
    "\n",
    "For $n=2$, either there is a double eigenvalue or two distinct eigenvalues. Only the case with a double eigenvalue may be defective. Here are the two canonical archetypes.\n",
    "\n",
    "````{proof:example}\n",
    "If $\\bfA=\\twomat{c}{0}{0}{c}$, then the characteristic polynomial is $p(\\lambda)=(\\lambda-c)^2$. Thus $\\lambda=c$ is the only eigenvalue, with algebraic multiplicity 2. All nonzero vectors are eigenvectors, so we can represent the eigenspace as a linear combination of $\\twovec{1}{0}$ and $\\twovec{0}{1}$. Hence the geometric multiplicity is also equal to 2, and $\\bfA$ is nondefective.\n",
    "\n",
    "````\n",
    "\n",
    "````{proof:example}\n",
    "A [previous example](example-linalg-defective) showed that the matrix $\\bfA=\\twomat{4}{1}{0}{4}$ has eigenvalue $\\lambda=4$ with algebraic multiplicity equal to 2 and geometric multiplicity equal to 1. Hence this matrix is defective.\n",
    "````\n",
    "\n",
    "The situation for $n>2$ can be more complicated, but we will stop here and move on to dynamics."
   ]
  }
 ],
 "metadata": {
  "jupytext": {
   "cell_metadata_filter": "-all",
   "formats": "md:myst",
   "text_representation": {
    "extension": ".md",
    "format_name": "myst",
    "format_version": "0.12",
    "jupytext_version": "1.5.0"
   }
  },
  "kernelspec": {
   "display_name": "Matlab",
   "language": "matlab",
   "name": "matlab"
  },
  "language_info": {
   "codemirror_mode": "octave",
   "file_extension": ".m",
   "help_links": [
    {
     "text": "MetaKernel Magics",
     "url": "https://metakernel.readthedocs.io/en/latest/source/README.html"
    }
   ],
   "mimetype": "text/x-octave",
   "name": "matlab",
   "version": "0.16.11"
  },
  "source_map": [
   14
  ]
 },
 "nbformat": 4,
 "nbformat_minor": 4
}